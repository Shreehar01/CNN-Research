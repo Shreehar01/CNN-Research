{
 "cells": [
  {
   "cell_type": "code",
   "execution_count": 33,
   "metadata": {},
   "outputs": [],
   "source": [
    "import pandas as pd\n",
    "import numpy as np"
   ]
  },
  {
   "cell_type": "code",
   "execution_count": 34,
   "metadata": {},
   "outputs": [
    {
     "data": {
      "text/html": [
       "<div>\n",
       "<style scoped>\n",
       "    .dataframe tbody tr th:only-of-type {\n",
       "        vertical-align: middle;\n",
       "    }\n",
       "\n",
       "    .dataframe tbody tr th {\n",
       "        vertical-align: top;\n",
       "    }\n",
       "\n",
       "    .dataframe thead th {\n",
       "        text-align: right;\n",
       "    }\n",
       "</style>\n",
       "<table border=\"1\" class=\"dataframe\">\n",
       "  <thead>\n",
       "    <tr style=\"text-align: right;\">\n",
       "      <th></th>\n",
       "      <th>MOSTYPE</th>\n",
       "      <th>MAANTHUI</th>\n",
       "      <th>MGEMOMV</th>\n",
       "      <th>MGEMLEEF</th>\n",
       "      <th>MOSHOOFD</th>\n",
       "      <th>MGODRK</th>\n",
       "      <th>MGODPR</th>\n",
       "      <th>MGODOV</th>\n",
       "      <th>MGODGE</th>\n",
       "      <th>MRELGE</th>\n",
       "      <th>...</th>\n",
       "      <th>APERSONG</th>\n",
       "      <th>AGEZONG</th>\n",
       "      <th>AWAOREG</th>\n",
       "      <th>ABRAND</th>\n",
       "      <th>AZEILPL</th>\n",
       "      <th>APLEZIER</th>\n",
       "      <th>AFIETS</th>\n",
       "      <th>AINBOED</th>\n",
       "      <th>ABYSTAND</th>\n",
       "      <th>Purchase</th>\n",
       "    </tr>\n",
       "    <tr>\n",
       "      <th>Unnamed: 0</th>\n",
       "      <th></th>\n",
       "      <th></th>\n",
       "      <th></th>\n",
       "      <th></th>\n",
       "      <th></th>\n",
       "      <th></th>\n",
       "      <th></th>\n",
       "      <th></th>\n",
       "      <th></th>\n",
       "      <th></th>\n",
       "      <th></th>\n",
       "      <th></th>\n",
       "      <th></th>\n",
       "      <th></th>\n",
       "      <th></th>\n",
       "      <th></th>\n",
       "      <th></th>\n",
       "      <th></th>\n",
       "      <th></th>\n",
       "      <th></th>\n",
       "      <th></th>\n",
       "    </tr>\n",
       "  </thead>\n",
       "  <tbody>\n",
       "    <tr>\n",
       "      <th>1</th>\n",
       "      <td>33</td>\n",
       "      <td>1</td>\n",
       "      <td>3</td>\n",
       "      <td>2</td>\n",
       "      <td>8</td>\n",
       "      <td>0</td>\n",
       "      <td>5</td>\n",
       "      <td>1</td>\n",
       "      <td>3</td>\n",
       "      <td>7</td>\n",
       "      <td>...</td>\n",
       "      <td>0</td>\n",
       "      <td>0</td>\n",
       "      <td>0</td>\n",
       "      <td>1</td>\n",
       "      <td>0</td>\n",
       "      <td>0</td>\n",
       "      <td>0</td>\n",
       "      <td>0</td>\n",
       "      <td>0</td>\n",
       "      <td>No</td>\n",
       "    </tr>\n",
       "    <tr>\n",
       "      <th>2</th>\n",
       "      <td>37</td>\n",
       "      <td>1</td>\n",
       "      <td>2</td>\n",
       "      <td>2</td>\n",
       "      <td>8</td>\n",
       "      <td>1</td>\n",
       "      <td>4</td>\n",
       "      <td>1</td>\n",
       "      <td>4</td>\n",
       "      <td>6</td>\n",
       "      <td>...</td>\n",
       "      <td>0</td>\n",
       "      <td>0</td>\n",
       "      <td>0</td>\n",
       "      <td>1</td>\n",
       "      <td>0</td>\n",
       "      <td>0</td>\n",
       "      <td>0</td>\n",
       "      <td>0</td>\n",
       "      <td>0</td>\n",
       "      <td>No</td>\n",
       "    </tr>\n",
       "    <tr>\n",
       "      <th>3</th>\n",
       "      <td>37</td>\n",
       "      <td>1</td>\n",
       "      <td>2</td>\n",
       "      <td>2</td>\n",
       "      <td>8</td>\n",
       "      <td>0</td>\n",
       "      <td>4</td>\n",
       "      <td>2</td>\n",
       "      <td>4</td>\n",
       "      <td>3</td>\n",
       "      <td>...</td>\n",
       "      <td>0</td>\n",
       "      <td>0</td>\n",
       "      <td>0</td>\n",
       "      <td>1</td>\n",
       "      <td>0</td>\n",
       "      <td>0</td>\n",
       "      <td>0</td>\n",
       "      <td>0</td>\n",
       "      <td>0</td>\n",
       "      <td>No</td>\n",
       "    </tr>\n",
       "    <tr>\n",
       "      <th>4</th>\n",
       "      <td>9</td>\n",
       "      <td>1</td>\n",
       "      <td>3</td>\n",
       "      <td>3</td>\n",
       "      <td>3</td>\n",
       "      <td>2</td>\n",
       "      <td>3</td>\n",
       "      <td>2</td>\n",
       "      <td>4</td>\n",
       "      <td>5</td>\n",
       "      <td>...</td>\n",
       "      <td>0</td>\n",
       "      <td>0</td>\n",
       "      <td>0</td>\n",
       "      <td>1</td>\n",
       "      <td>0</td>\n",
       "      <td>0</td>\n",
       "      <td>0</td>\n",
       "      <td>0</td>\n",
       "      <td>0</td>\n",
       "      <td>No</td>\n",
       "    </tr>\n",
       "    <tr>\n",
       "      <th>5</th>\n",
       "      <td>40</td>\n",
       "      <td>1</td>\n",
       "      <td>4</td>\n",
       "      <td>2</td>\n",
       "      <td>10</td>\n",
       "      <td>1</td>\n",
       "      <td>4</td>\n",
       "      <td>1</td>\n",
       "      <td>4</td>\n",
       "      <td>7</td>\n",
       "      <td>...</td>\n",
       "      <td>0</td>\n",
       "      <td>0</td>\n",
       "      <td>0</td>\n",
       "      <td>1</td>\n",
       "      <td>0</td>\n",
       "      <td>0</td>\n",
       "      <td>0</td>\n",
       "      <td>0</td>\n",
       "      <td>0</td>\n",
       "      <td>No</td>\n",
       "    </tr>\n",
       "  </tbody>\n",
       "</table>\n",
       "<p>5 rows × 86 columns</p>\n",
       "</div>"
      ],
      "text/plain": [
       "            MOSTYPE  MAANTHUI  MGEMOMV  MGEMLEEF  MOSHOOFD  MGODRK  MGODPR  \\\n",
       "Unnamed: 0                                                                   \n",
       "1                33         1        3         2         8       0       5   \n",
       "2                37         1        2         2         8       1       4   \n",
       "3                37         1        2         2         8       0       4   \n",
       "4                 9         1        3         3         3       2       3   \n",
       "5                40         1        4         2        10       1       4   \n",
       "\n",
       "            MGODOV  MGODGE  MRELGE  ...  APERSONG  AGEZONG  AWAOREG  ABRAND  \\\n",
       "Unnamed: 0                          ...                                       \n",
       "1                1       3       7  ...         0        0        0       1   \n",
       "2                1       4       6  ...         0        0        0       1   \n",
       "3                2       4       3  ...         0        0        0       1   \n",
       "4                2       4       5  ...         0        0        0       1   \n",
       "5                1       4       7  ...         0        0        0       1   \n",
       "\n",
       "            AZEILPL  APLEZIER  AFIETS  AINBOED  ABYSTAND  Purchase  \n",
       "Unnamed: 0                                                          \n",
       "1                 0         0       0        0         0        No  \n",
       "2                 0         0       0        0         0        No  \n",
       "3                 0         0       0        0         0        No  \n",
       "4                 0         0       0        0         0        No  \n",
       "5                 0         0       0        0         0        No  \n",
       "\n",
       "[5 rows x 86 columns]"
      ]
     },
     "execution_count": 34,
     "metadata": {},
     "output_type": "execute_result"
    }
   ],
   "source": [
    "df = pd.read_csv('Caravan.csv')\n",
    "df = df.set_index('Unnamed: 0')\n",
    "df.head(5)"
   ]
  },
  {
   "cell_type": "markdown",
   "metadata": {},
   "source": [
    "# Q.no. 1. a "
   ]
  },
  {
   "cell_type": "code",
   "execution_count": 35,
   "metadata": {},
   "outputs": [
    {
     "name": "stdout",
     "output_type": "stream",
     "text": [
      "The dimension of the dataset is (5822, 86)\n"
     ]
    }
   ],
   "source": [
    "print(\"The dimension of the dataset is\", df.shape)"
   ]
  },
  {
   "cell_type": "markdown",
   "metadata": {},
   "source": [
    "# Q.no. 1. b"
   ]
  },
  {
   "cell_type": "code",
   "execution_count": 36,
   "metadata": {},
   "outputs": [
    {
     "name": "stdout",
     "output_type": "stream",
     "text": [
      "The number of predictors that measure demographics characters are 43\n"
     ]
    }
   ],
   "source": [
    "print(\"The number of predictors that measure demographics characters are\", 43)"
   ]
  },
  {
   "cell_type": "markdown",
   "metadata": {},
   "source": [
    "# Q.no. 1. c"
   ]
  },
  {
   "cell_type": "code",
   "execution_count": 37,
   "metadata": {},
   "outputs": [
    {
     "name": "stdout",
     "output_type": "stream",
     "text": [
      "The percentage of people who purchased caravan insurance is 5.98 %\n"
     ]
    }
   ],
   "source": [
    "per_yes = round((df[df['Purchase'] == 'Yes'].shape[0] / df.shape[0]) * 100, 2)\n",
    "print(\"The percentage of people who purchased caravan insurance is\", per_yes, \"%\")"
   ]
  },
  {
   "cell_type": "markdown",
   "metadata": {},
   "source": [
    "# Q.no. 2."
   ]
  },
  {
   "cell_type": "code",
   "execution_count": 38,
   "metadata": {},
   "outputs": [
    {
     "data": {
      "text/html": [
       "<div>\n",
       "<style scoped>\n",
       "    .dataframe tbody tr th:only-of-type {\n",
       "        vertical-align: middle;\n",
       "    }\n",
       "\n",
       "    .dataframe tbody tr th {\n",
       "        vertical-align: top;\n",
       "    }\n",
       "\n",
       "    .dataframe thead th {\n",
       "        text-align: right;\n",
       "    }\n",
       "</style>\n",
       "<table border=\"1\" class=\"dataframe\">\n",
       "  <thead>\n",
       "    <tr style=\"text-align: right;\">\n",
       "      <th></th>\n",
       "      <th>MOSTYPE</th>\n",
       "      <th>MAANTHUI</th>\n",
       "      <th>MGEMOMV</th>\n",
       "      <th>MGEMLEEF</th>\n",
       "      <th>MOSHOOFD</th>\n",
       "      <th>MGODRK</th>\n",
       "      <th>MGODPR</th>\n",
       "      <th>MGODOV</th>\n",
       "      <th>MGODGE</th>\n",
       "      <th>MRELGE</th>\n",
       "      <th>...</th>\n",
       "      <th>ALEVEN</th>\n",
       "      <th>APERSONG</th>\n",
       "      <th>AGEZONG</th>\n",
       "      <th>AWAOREG</th>\n",
       "      <th>ABRAND</th>\n",
       "      <th>AZEILPL</th>\n",
       "      <th>APLEZIER</th>\n",
       "      <th>AFIETS</th>\n",
       "      <th>AINBOED</th>\n",
       "      <th>ABYSTAND</th>\n",
       "    </tr>\n",
       "  </thead>\n",
       "  <tbody>\n",
       "    <tr>\n",
       "      <th>count</th>\n",
       "      <td>5.822000e+03</td>\n",
       "      <td>5.822000e+03</td>\n",
       "      <td>5.822000e+03</td>\n",
       "      <td>5.822000e+03</td>\n",
       "      <td>5.822000e+03</td>\n",
       "      <td>5.822000e+03</td>\n",
       "      <td>5.822000e+03</td>\n",
       "      <td>5.822000e+03</td>\n",
       "      <td>5.822000e+03</td>\n",
       "      <td>5.822000e+03</td>\n",
       "      <td>...</td>\n",
       "      <td>5.822000e+03</td>\n",
       "      <td>5.822000e+03</td>\n",
       "      <td>5.822000e+03</td>\n",
       "      <td>5.822000e+03</td>\n",
       "      <td>5.822000e+03</td>\n",
       "      <td>5.822000e+03</td>\n",
       "      <td>5.822000e+03</td>\n",
       "      <td>5.822000e+03</td>\n",
       "      <td>5.822000e+03</td>\n",
       "      <td>5.822000e+03</td>\n",
       "    </tr>\n",
       "    <tr>\n",
       "      <th>mean</th>\n",
       "      <td>-1.015639e-16</td>\n",
       "      <td>-5.891695e-16</td>\n",
       "      <td>5.059123e-17</td>\n",
       "      <td>2.968433e-16</td>\n",
       "      <td>3.783378e-17</td>\n",
       "      <td>8.966453e-17</td>\n",
       "      <td>2.637495e-16</td>\n",
       "      <td>-8.237761e-17</td>\n",
       "      <td>-1.124716e-16</td>\n",
       "      <td>-4.411907e-16</td>\n",
       "      <td>...</td>\n",
       "      <td>3.234940e-16</td>\n",
       "      <td>6.345214e-16</td>\n",
       "      <td>-9.102990e-16</td>\n",
       "      <td>1.514018e-16</td>\n",
       "      <td>-4.850504e-16</td>\n",
       "      <td>-1.518214e-16</td>\n",
       "      <td>-9.635599e-16</td>\n",
       "      <td>-3.440795e-16</td>\n",
       "      <td>6.019413e-16</td>\n",
       "      <td>-1.696465e-16</td>\n",
       "    </tr>\n",
       "    <tr>\n",
       "      <th>std</th>\n",
       "      <td>1.000086e+00</td>\n",
       "      <td>1.000086e+00</td>\n",
       "      <td>1.000086e+00</td>\n",
       "      <td>1.000086e+00</td>\n",
       "      <td>1.000086e+00</td>\n",
       "      <td>1.000086e+00</td>\n",
       "      <td>1.000086e+00</td>\n",
       "      <td>1.000086e+00</td>\n",
       "      <td>1.000086e+00</td>\n",
       "      <td>1.000086e+00</td>\n",
       "      <td>...</td>\n",
       "      <td>1.000086e+00</td>\n",
       "      <td>1.000086e+00</td>\n",
       "      <td>1.000086e+00</td>\n",
       "      <td>1.000086e+00</td>\n",
       "      <td>1.000086e+00</td>\n",
       "      <td>1.000086e+00</td>\n",
       "      <td>1.000086e+00</td>\n",
       "      <td>1.000086e+00</td>\n",
       "      <td>1.000086e+00</td>\n",
       "      <td>1.000086e+00</td>\n",
       "    </tr>\n",
       "    <tr>\n",
       "      <th>min</th>\n",
       "      <td>-1.810219e+00</td>\n",
       "      <td>-2.725800e-01</td>\n",
       "      <td>-2.125697e+00</td>\n",
       "      <td>-2.444683e+00</td>\n",
       "      <td>-1.671134e+00</td>\n",
       "      <td>-6.943106e-01</td>\n",
       "      <td>-2.696827e+00</td>\n",
       "      <td>-1.051594e+00</td>\n",
       "      <td>-2.039739e+00</td>\n",
       "      <td>-3.238560e+00</td>\n",
       "      <td>...</td>\n",
       "      <td>-2.029099e-01</td>\n",
       "      <td>-7.316512e-02</td>\n",
       "      <td>-8.105460e-02</td>\n",
       "      <td>-5.992001e-02</td>\n",
       "      <td>-1.014358e+00</td>\n",
       "      <td>-2.270578e-02</td>\n",
       "      <td>-7.365027e-02</td>\n",
       "      <td>-1.506205e-01</td>\n",
       "      <td>-8.734772e-02</td>\n",
       "      <td>-1.188165e-01</td>\n",
       "    </tr>\n",
       "    <tr>\n",
       "      <th>25%</th>\n",
       "      <td>-1.109590e+00</td>\n",
       "      <td>-2.725800e-01</td>\n",
       "      <td>-8.595001e-01</td>\n",
       "      <td>-1.216964e+00</td>\n",
       "      <td>-9.709796e-01</td>\n",
       "      <td>-6.943106e-01</td>\n",
       "      <td>-3.654101e-01</td>\n",
       "      <td>-1.051594e+00</td>\n",
       "      <td>-7.877902e-01</td>\n",
       "      <td>-6.198244e-01</td>\n",
       "      <td>...</td>\n",
       "      <td>-2.029099e-01</td>\n",
       "      <td>-7.316512e-02</td>\n",
       "      <td>-8.105460e-02</td>\n",
       "      <td>-5.992001e-02</td>\n",
       "      <td>-1.014358e+00</td>\n",
       "      <td>-2.270578e-02</td>\n",
       "      <td>-7.365027e-02</td>\n",
       "      <td>-1.506205e-01</td>\n",
       "      <td>-8.734772e-02</td>\n",
       "      <td>-1.188165e-01</td>\n",
       "    </tr>\n",
       "    <tr>\n",
       "      <th>50%</th>\n",
       "      <td>4.473633e-01</td>\n",
       "      <td>-2.725800e-01</td>\n",
       "      <td>4.066966e-01</td>\n",
       "      <td>1.075466e-02</td>\n",
       "      <td>4.293284e-01</td>\n",
       "      <td>-6.943106e-01</td>\n",
       "      <td>2.174440e-01</td>\n",
       "      <td>-6.871064e-02</td>\n",
       "      <td>-1.618158e-01</td>\n",
       "      <td>-9.607727e-02</td>\n",
       "      <td>...</td>\n",
       "      <td>-2.029099e-01</td>\n",
       "      <td>-7.316512e-02</td>\n",
       "      <td>-8.105460e-02</td>\n",
       "      <td>-5.992001e-02</td>\n",
       "      <td>7.649707e-01</td>\n",
       "      <td>-2.270578e-02</td>\n",
       "      <td>-7.365027e-02</td>\n",
       "      <td>-1.506205e-01</td>\n",
       "      <td>-8.734772e-02</td>\n",
       "      <td>-1.188165e-01</td>\n",
       "    </tr>\n",
       "    <tr>\n",
       "      <th>75%</th>\n",
       "      <td>8.366015e-01</td>\n",
       "      <td>-2.725800e-01</td>\n",
       "      <td>4.066966e-01</td>\n",
       "      <td>1.075466e-02</td>\n",
       "      <td>7.794054e-01</td>\n",
       "      <td>3.025516e-01</td>\n",
       "      <td>8.002982e-01</td>\n",
       "      <td>9.141723e-01</td>\n",
       "      <td>4.641586e-01</td>\n",
       "      <td>4.276698e-01</td>\n",
       "      <td>...</td>\n",
       "      <td>-2.029099e-01</td>\n",
       "      <td>-7.316512e-02</td>\n",
       "      <td>-8.105460e-02</td>\n",
       "      <td>-5.992001e-02</td>\n",
       "      <td>7.649707e-01</td>\n",
       "      <td>-2.270578e-02</td>\n",
       "      <td>-7.365027e-02</td>\n",
       "      <td>-1.506205e-01</td>\n",
       "      <td>-8.734772e-02</td>\n",
       "      <td>-1.188165e-01</td>\n",
       "    </tr>\n",
       "    <tr>\n",
       "      <th>max</th>\n",
       "      <td>1.303687e+00</td>\n",
       "      <td>2.190544e+01</td>\n",
       "      <td>2.939090e+00</td>\n",
       "      <td>3.693911e+00</td>\n",
       "      <td>1.479559e+00</td>\n",
       "      <td>8.277450e+00</td>\n",
       "      <td>2.548861e+00</td>\n",
       "      <td>3.862821e+00</td>\n",
       "      <td>3.594031e+00</td>\n",
       "      <td>1.475164e+00</td>\n",
       "      <td>...</td>\n",
       "      <td>2.098707e+01</td>\n",
       "      <td>1.366772e+01</td>\n",
       "      <td>1.233736e+01</td>\n",
       "      <td>2.578114e+01</td>\n",
       "      <td>1.144094e+01</td>\n",
       "      <td>4.404165e+01</td>\n",
       "      <td>2.442874e+01</td>\n",
       "      <td>1.406958e+01</td>\n",
       "      <td>2.202302e+01</td>\n",
       "      <td>1.654985e+01</td>\n",
       "    </tr>\n",
       "  </tbody>\n",
       "</table>\n",
       "<p>8 rows × 85 columns</p>\n",
       "</div>"
      ],
      "text/plain": [
       "            MOSTYPE      MAANTHUI       MGEMOMV      MGEMLEEF      MOSHOOFD  \\\n",
       "count  5.822000e+03  5.822000e+03  5.822000e+03  5.822000e+03  5.822000e+03   \n",
       "mean  -1.015639e-16 -5.891695e-16  5.059123e-17  2.968433e-16  3.783378e-17   \n",
       "std    1.000086e+00  1.000086e+00  1.000086e+00  1.000086e+00  1.000086e+00   \n",
       "min   -1.810219e+00 -2.725800e-01 -2.125697e+00 -2.444683e+00 -1.671134e+00   \n",
       "25%   -1.109590e+00 -2.725800e-01 -8.595001e-01 -1.216964e+00 -9.709796e-01   \n",
       "50%    4.473633e-01 -2.725800e-01  4.066966e-01  1.075466e-02  4.293284e-01   \n",
       "75%    8.366015e-01 -2.725800e-01  4.066966e-01  1.075466e-02  7.794054e-01   \n",
       "max    1.303687e+00  2.190544e+01  2.939090e+00  3.693911e+00  1.479559e+00   \n",
       "\n",
       "             MGODRK        MGODPR        MGODOV        MGODGE        MRELGE  \\\n",
       "count  5.822000e+03  5.822000e+03  5.822000e+03  5.822000e+03  5.822000e+03   \n",
       "mean   8.966453e-17  2.637495e-16 -8.237761e-17 -1.124716e-16 -4.411907e-16   \n",
       "std    1.000086e+00  1.000086e+00  1.000086e+00  1.000086e+00  1.000086e+00   \n",
       "min   -6.943106e-01 -2.696827e+00 -1.051594e+00 -2.039739e+00 -3.238560e+00   \n",
       "25%   -6.943106e-01 -3.654101e-01 -1.051594e+00 -7.877902e-01 -6.198244e-01   \n",
       "50%   -6.943106e-01  2.174440e-01 -6.871064e-02 -1.618158e-01 -9.607727e-02   \n",
       "75%    3.025516e-01  8.002982e-01  9.141723e-01  4.641586e-01  4.276698e-01   \n",
       "max    8.277450e+00  2.548861e+00  3.862821e+00  3.594031e+00  1.475164e+00   \n",
       "\n",
       "       ...        ALEVEN      APERSONG       AGEZONG       AWAOREG  \\\n",
       "count  ...  5.822000e+03  5.822000e+03  5.822000e+03  5.822000e+03   \n",
       "mean   ...  3.234940e-16  6.345214e-16 -9.102990e-16  1.514018e-16   \n",
       "std    ...  1.000086e+00  1.000086e+00  1.000086e+00  1.000086e+00   \n",
       "min    ... -2.029099e-01 -7.316512e-02 -8.105460e-02 -5.992001e-02   \n",
       "25%    ... -2.029099e-01 -7.316512e-02 -8.105460e-02 -5.992001e-02   \n",
       "50%    ... -2.029099e-01 -7.316512e-02 -8.105460e-02 -5.992001e-02   \n",
       "75%    ... -2.029099e-01 -7.316512e-02 -8.105460e-02 -5.992001e-02   \n",
       "max    ...  2.098707e+01  1.366772e+01  1.233736e+01  2.578114e+01   \n",
       "\n",
       "             ABRAND       AZEILPL      APLEZIER        AFIETS       AINBOED  \\\n",
       "count  5.822000e+03  5.822000e+03  5.822000e+03  5.822000e+03  5.822000e+03   \n",
       "mean  -4.850504e-16 -1.518214e-16 -9.635599e-16 -3.440795e-16  6.019413e-16   \n",
       "std    1.000086e+00  1.000086e+00  1.000086e+00  1.000086e+00  1.000086e+00   \n",
       "min   -1.014358e+00 -2.270578e-02 -7.365027e-02 -1.506205e-01 -8.734772e-02   \n",
       "25%   -1.014358e+00 -2.270578e-02 -7.365027e-02 -1.506205e-01 -8.734772e-02   \n",
       "50%    7.649707e-01 -2.270578e-02 -7.365027e-02 -1.506205e-01 -8.734772e-02   \n",
       "75%    7.649707e-01 -2.270578e-02 -7.365027e-02 -1.506205e-01 -8.734772e-02   \n",
       "max    1.144094e+01  4.404165e+01  2.442874e+01  1.406958e+01  2.202302e+01   \n",
       "\n",
       "           ABYSTAND  \n",
       "count  5.822000e+03  \n",
       "mean  -1.696465e-16  \n",
       "std    1.000086e+00  \n",
       "min   -1.188165e-01  \n",
       "25%   -1.188165e-01  \n",
       "50%   -1.188165e-01  \n",
       "75%   -1.188165e-01  \n",
       "max    1.654985e+01  \n",
       "\n",
       "[8 rows x 85 columns]"
      ]
     },
     "execution_count": 38,
     "metadata": {},
     "output_type": "execute_result"
    }
   ],
   "source": [
    "from sklearn import preprocessing\n",
    "df.loc[:, df.columns!='Purchase'] = preprocessing.scale(df.loc[:, df.columns!='Purchase'], axis=0)\n",
    "df.describe()"
   ]
  },
  {
   "cell_type": "markdown",
   "metadata": {},
   "source": [
    "All the variables in the datset now have a mean of 0 and standard deviation of 1 and hence are standardized."
   ]
  },
  {
   "cell_type": "markdown",
   "metadata": {},
   "source": [
    "# Q.no. 3."
   ]
  },
  {
   "cell_type": "code",
   "execution_count": 39,
   "metadata": {},
   "outputs": [],
   "source": [
    "X, y = df.drop(['Purchase'], axis = 1), df['Purchase']\n",
    "X_train, X_test, y_train, y_test = X[1000:], X[:1000], y[1000:], y[:1000]\n",
    "\n",
    "y_train = (y_train == 'Yes') \n",
    "y_test = (y_test == 'Yes')"
   ]
  },
  {
   "cell_type": "markdown",
   "metadata": {},
   "source": [
    "# Q.no. 3.a"
   ]
  },
  {
   "cell_type": "code",
   "execution_count": 40,
   "metadata": {},
   "outputs": [
    {
     "name": "stdout",
     "output_type": "stream",
     "text": [
      "The number of observations in train set is 4822\n",
      "The number of observations in test set is 1000\n"
     ]
    }
   ],
   "source": [
    "print(\"The number of observations in train set is\", X_train.shape[0])\n",
    "print(\"The number of observations in test set is\", X_test.shape[0])"
   ]
  },
  {
   "cell_type": "markdown",
   "metadata": {},
   "source": [
    "# Q.no. 3.b"
   ]
  },
  {
   "cell_type": "code",
   "execution_count": 41,
   "metadata": {},
   "outputs": [
    {
     "name": "stdout",
     "output_type": "stream",
     "text": [
      "The number of people purchasing the insurance in train set is 289\n",
      "The number of people purchasing the insurance in test set is 59\n"
     ]
    }
   ],
   "source": [
    "print(\"The number of people purchasing the insurance in train set is\", np.count_nonzero(y_train == True))\n",
    "print(\"The number of people purchasing the insurance in test set is\", np.count_nonzero(y_test == True))"
   ]
  },
  {
   "cell_type": "markdown",
   "metadata": {},
   "source": [
    "# Q.no. 4.a"
   ]
  },
  {
   "cell_type": "code",
   "execution_count": 42,
   "metadata": {},
   "outputs": [],
   "source": [
    "from sklearn.neighbors import KNeighborsClassifier\n",
    "\n",
    "neigh1 = KNeighborsClassifier(n_neighbors=1)\n",
    "neigh1.fit(X_train, y_train)\n",
    "y_pred1 = neigh1.predict(X_test)\n",
    "\n",
    "neigh3 = KNeighborsClassifier(n_neighbors=3)\n",
    "neigh3.fit(X_train, y_train)\n",
    "y_pred3 = neigh3.predict(X_test)\n",
    "                  \n",
    "neigh5 = KNeighborsClassifier(n_neighbors=5)\n",
    "neigh5.fit(X_train, y_train)\n",
    "y_pred5 = neigh5.predict(X_test)"
   ]
  },
  {
   "cell_type": "code",
   "execution_count": 43,
   "metadata": {},
   "outputs": [
    {
     "name": "stdout",
     "output_type": "stream",
     "text": [
      "K value = 1\n",
      "Precision score 0.11688311688311688\n",
      "Recall score 0.15254237288135594\n",
      "========================================\n",
      "K value = 3\n",
      "Precision score 0.2\n",
      "Recall score 0.0847457627118644\n",
      "========================================\n",
      "K value = 5\n",
      "Precision score 0.26666666666666666\n",
      "Recall score 0.06779661016949153\n"
     ]
    }
   ],
   "source": [
    "from sklearn.metrics import precision_score, recall_score\n",
    "print(\"K value = 1\")\n",
    "print(\"Precision score\", precision_score(y_test, y_pred1))\n",
    "print(\"Recall score\", recall_score(y_test, y_pred1))\n",
    "print(\"=\" * 40)\n",
    "print(\"K value = 3\")\n",
    "print(\"Precision score\", precision_score(y_test, y_pred3))\n",
    "print(\"Recall score\", recall_score(y_test, y_pred3))\n",
    "print(\"=\" * 40)\n",
    "print(\"K value = 5\")\n",
    "print(\"Precision score\", precision_score(y_test, y_pred5))\n",
    "print(\"Recall score\", recall_score(y_test, y_pred5))"
   ]
  },
  {
   "cell_type": "markdown",
   "metadata": {},
   "source": [
    "As we increase the number of K, the precision score of the model increases which means the accuracy of the positive predictions (the number of positively predicted classes actually turning out to be positive) increase as the number of K is increased. "
   ]
  },
  {
   "cell_type": "markdown",
   "metadata": {},
   "source": [
    "# Q.no. 4.b"
   ]
  },
  {
   "cell_type": "code",
   "execution_count": 44,
   "metadata": {},
   "outputs": [
    {
     "name": "stdout",
     "output_type": "stream",
     "text": [
      "Precision score 0.3125\n",
      "Recall score 0.0847457627118644\n"
     ]
    }
   ],
   "source": [
    "from sklearn.linear_model import SGDClassifier\n",
    "\n",
    "sgd_clf = SGDClassifier(max_iter=1000, tol=1e-3, random_state=42)\n",
    "sgd_clf.fit(X_train, y_train)\n",
    "\n",
    "sgd_pred = sgd_clf.predict(X_test)\n",
    "print(\"Precision score\", precision_score(y_test, sgd_pred))\n",
    "print(\"Recall score\", recall_score(y_test, sgd_pred))"
   ]
  },
  {
   "cell_type": "markdown",
   "metadata": {},
   "source": [
    "# Q.no. 4.c"
   ]
  },
  {
   "cell_type": "markdown",
   "metadata": {},
   "source": [
    "The precision score of SGD classifier is much higher than any of the three models(K=1, 3, and 5) of the KNN. In our case, we want any customer to be predicted as potential buyer only when the chances are really high as the insurance company doesn't want to spend much time and money on those who are not likely to buy. By doing so, they might miss few potential buyers but here time and other forms of investments might be crucial aspect. In other words, we want the precision to be high with less regard to the recall value. Hence, SGD classifier is said to capture real patterns in the Caravan dataset."
   ]
  }
 ],
 "metadata": {
  "kernelspec": {
   "display_name": "Python 3",
   "language": "python",
   "name": "python3"
  },
  "language_info": {
   "codemirror_mode": {
    "name": "ipython",
    "version": 3
   },
   "file_extension": ".py",
   "mimetype": "text/x-python",
   "name": "python",
   "nbconvert_exporter": "python",
   "pygments_lexer": "ipython3",
   "version": "3.8.3"
  }
 },
 "nbformat": 4,
 "nbformat_minor": 4
}
