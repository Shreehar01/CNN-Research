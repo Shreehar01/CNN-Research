{
 "cells": [
  {
   "cell_type": "markdown",
   "metadata": {},
   "source": [
    "# CMPS 320\n",
    "## Lab 3:  Web Mining: Google PageRank"
   ]
  },
  {
   "cell_type": "markdown",
   "metadata": {},
   "source": [
    "Create an empty graph: Our first example of a graph will be an empty graph. The following little Python script uses NetworkX to create an empty graph:\n",
    "\n"
   ]
  },
  {
   "cell_type": "code",
   "execution_count": 1,
   "metadata": {},
   "outputs": [],
   "source": [
    "import matplotlib.pyplot as plt\n",
    "import networkx as nx\n",
    "import numpy as np\n",
    "\n",
    "G=nx.DiGraph(directed=True)\n"
   ]
  },
  {
   "cell_type": "markdown",
   "metadata": {},
   "source": [
    "Adding Nodes to our Graph: Now we will add some nodes to our graph. We can add a list of nodes with the method add_nodes_from():"
   ]
  },
  {
   "cell_type": "code",
   "execution_count": 2,
   "metadata": {},
   "outputs": [
    {
     "name": "stdout",
     "output_type": "stream",
     "text": [
      "Nodes of graph: \n",
      "['1', '2', '3', '4', '5']\n",
      "Edges of graph: \n",
      "[]\n"
     ]
    }
   ],
   "source": [
    "# a list of nodes:\n",
    "pages = [\"1\",\"2\",\"3\",\"4\",\"5\"]\n",
    "G.add_nodes_from(pages)\n",
    "\n",
    "print(\"Nodes of graph: \")\n",
    "print(G.nodes())\n",
    "print(\"Edges of graph: \")\n",
    "print(G.edges())"
   ]
  },
  {
   "cell_type": "markdown",
   "metadata": {},
   "source": [
    "Adding Edges to our Graph: G can also be created or increased by adding one edge at a time by the method add_edge(), which has the two nodes of the edge as the two parameters. We can add a bunch of edges as a list of edges in the form of 2 tuples."
   ]
  },
  {
   "cell_type": "code",
   "execution_count": 3,
   "metadata": {
    "scrolled": true
   },
   "outputs": [
    {
     "name": "stdout",
     "output_type": "stream",
     "text": [
      "Nodes of graph: \n",
      "['1', '2', '3', '4', '5']\n",
      "Edges of graph: \n",
      "[('1', '2'), ('1', '4'), ('2', '1'), ('3', '1'), ('3', '5'), ('4', '1'), ('4', '3'), ('4', '2')]\n",
      "Number of outward links for each node:\n",
      "['Page 1 = 2']\n",
      "['Page 2 = 1']\n",
      "['Page 3 = 2']\n",
      "['Page 4 = 3']\n",
      "['Page 5 = 0']\n"
     ]
    }
   ],
   "source": [
    "G.add_edges_from([('3','1'), ('1','2'),('2','1'), ('1','4'),('4','1'),('4','3'),('4','2'),('3','5')])\n",
    "print(\"Nodes of graph: \")\n",
    "print(G.nodes())\n",
    "print(\"Edges of graph: \")\n",
    "print(G.edges())\n",
    "\n",
    "# The function G.out_edges('node') returns the numbers of nodes 'node' links to.\n",
    "\n",
    "print(\"Number of outward links for each node:\")\n",
    "for page in pages:\n",
    "    print([\"Page %s = %s\"% (page,str(len(G.out_edges(page))))])"
   ]
  },
  {
   "cell_type": "markdown",
   "metadata": {},
   "source": [
    "We can also print the resulting graph by using matplotlib:"
   ]
  },
  {
   "cell_type": "code",
   "execution_count": 4,
   "metadata": {
    "scrolled": false
   },
   "outputs": [
    {
     "data": {
      "image/png": "[encoded data removed]",
      "text/plain": [
       "<Figure size 432x288 with 1 Axes>"
      ]
     },
     "metadata": {},
     "output_type": "display_data"
    }
   ],
   "source": [
    "#pip install decorator==4.3\n",
    "nx.draw(G, with_labels = True)\n",
    "plt.draw() # display"
   ]
  },
  {
   "cell_type": "code",
   "execution_count": 5,
   "metadata": {
    "scrolled": true
   },
   "outputs": [
    {
     "data": {
      "text/plain": [
       "{'1': 0.3596129467197445,\n",
       " '2': 0.2538040970105063,\n",
       " '3': 0.10096842356898061,\n",
       " '4': 0.19776943401527194,\n",
       " '5': 0.08784509868549667}"
      ]
     },
     "execution_count": 5,
     "metadata": {},
     "output_type": "execute_result"
    }
   ],
   "source": [
    "# COMPUTE PageRank\n",
    "prank=nx.pagerank(G, alpha=0.85); \n",
    "prank "
   ]
  },
  {
   "cell_type": "markdown",
   "metadata": {},
   "source": [
    "PageRank computes a ranking of the nodes in the graph G based on the structure of the incoming links. It was originally designed as an algorithm to rank web pages.\n",
    "\n",
    "The PageRank algorithm was designed for directed graphs but this algorithm does not check if the input graph is directed and will execute on undirected graphs by converting each edge in the directed graph to two edges."
   ]
  },
  {
   "cell_type": "code",
   "execution_count": null,
   "metadata": {},
   "outputs": [],
   "source": []
  }
 ],
 "metadata": {
  "kernelspec": {
   "display_name": "Python 3",
   "language": "python",
   "name": "python3"
  },
  "language_info": {
   "codemirror_mode": {
    "name": "ipython",
    "version": 3
   },
   "file_extension": ".py",
   "mimetype": "text/x-python",
   "name": "python",
   "nbconvert_exporter": "python",
   "pygments_lexer": "ipython3",
   "version": "3.8.3"
  }
 },
 "nbformat": 4,
 "nbformat_minor": 5
}
