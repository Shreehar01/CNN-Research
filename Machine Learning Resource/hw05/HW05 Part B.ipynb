{
 "cells": [
  {
   "cell_type": "code",
   "execution_count": 1,
   "metadata": {},
   "outputs": [],
   "source": [
    "import numpy as np\n",
    "import pandas as pd\n",
    "from sklearn.datasets import fetch_openml\n",
    "from sklearn.model_selection import train_test_split\n",
    "from sklearn.ensemble import RandomForestClassifier\n",
    "from sklearn.ensemble import BaggingClassifier\n",
    "from sklearn.tree import DecisionTreeClassifier\n",
    "from sklearn.ensemble import VotingClassifier\n",
    "from sklearn.metrics import accuracy_score\n",
    "\n",
    "mnist = fetch_openml('mnist_784', version=1)"
   ]
  },
  {
   "cell_type": "markdown",
   "metadata": {},
   "source": [
    "## Q.no. 1"
   ]
  },
  {
   "cell_type": "code",
   "execution_count": 2,
   "metadata": {},
   "outputs": [
    {
     "name": "stdout",
     "output_type": "stream",
     "text": [
      "The number of instances in train set: 50000\n",
      "The number of instances in validation set: 10000\n",
      "The number of instances in test set: 10000\n"
     ]
    }
   ],
   "source": [
    "X = mnist['data']\n",
    "y = mnist['target']\n",
    "X_train, X_test_val, y_train, y_test_val = train_test_split(X, y, test_size = 0.28571428571, random_state=42)\n",
    "X_val, X_test, y_val, y_test = train_test_split(X_test_val, y_test_val, test_size = 0.5, random_state=42)\n",
    "print('The number of instances in train set:', X_train.shape[0])\n",
    "print('The number of instances in validation set:', X_val.shape[0])\n",
    "print('The number of instances in test set:', X_test.shape[0])"
   ]
  },
  {
   "cell_type": "markdown",
   "metadata": {},
   "source": [
    "## Q.no. 2"
   ]
  },
  {
   "cell_type": "code",
   "execution_count": 3,
   "metadata": {},
   "outputs": [
    {
     "name": "stdout",
     "output_type": "stream",
     "text": [
      "Random Forest Accuracy:  0.9677\n"
     ]
    }
   ],
   "source": [
    "rnd_clf = RandomForestClassifier(n_estimators=100, random_state=42)\n",
    "rnd_clf.fit(X_train, y_train)\n",
    "y_pred_rf = rnd_clf.predict(X_val)\n",
    "print(\"Random Forest Accuracy: \", accuracy_score(y_val, y_pred_rf))"
   ]
  },
  {
   "cell_type": "code",
   "execution_count": 13,
   "metadata": {},
   "outputs": [
    {
     "name": "stdout",
     "output_type": "stream",
     "text": [
      "Bagging Classifier Accuracy:  0.8394\n"
     ]
    }
   ],
   "source": [
    "bag_clf = BaggingClassifier(\n",
    "    DecisionTreeClassifier(random_state=42), n_estimators=500,\n",
    "    max_samples=100, bootstrap=True, random_state=42)\n",
    "bag_clf.fit(X_train, y_train)\n",
    "y_pred_bag = bag_clf.predict(X_val)\n",
    "print(\"Bagging Classifier Accuracy: \", accuracy_score(y_val, y_pred_bag))"
   ]
  },
  {
   "cell_type": "code",
   "execution_count": 5,
   "metadata": {},
   "outputs": [
    {
     "name": "stdout",
     "output_type": "stream",
     "text": [
      "Decision Trees Accuracy:  0.8714\n"
     ]
    }
   ],
   "source": [
    "tree_clf = DecisionTreeClassifier(random_state=42)\n",
    "tree_clf.fit(X_train, y_train)\n",
    "y_pred_tree = tree_clf.predict(X_val)\n",
    "print(\"Decision Trees Accuracy: \", accuracy_score(y_val, y_pred_tree))"
   ]
  },
  {
   "cell_type": "markdown",
   "metadata": {},
   "source": [
    "## Q.no. 3"
   ]
  },
  {
   "cell_type": "code",
   "execution_count": 6,
   "metadata": {},
   "outputs": [
    {
     "name": "stdout",
     "output_type": "stream",
     "text": [
      "Voting Classifier Accuracy:  0.9334\n"
     ]
    }
   ],
   "source": [
    "voting_clf = VotingClassifier(\n",
    "    estimators=[('bag', bag_clf), ('rf', rnd_clf), ('dt', tree_clf)],\n",
    "    voting='hard') # hard voting\n",
    "voting_clf.fit(X_train, y_train)\n",
    "y_pred_voting = voting_clf.predict(X_val)\n",
    "print(\"Voting Classifier Accuracy: \", accuracy_score(y_val, y_pred_voting))"
   ]
  },
  {
   "cell_type": "markdown",
   "metadata": {},
   "source": [
    "## Q.no. 4"
   ]
  },
  {
   "cell_type": "markdown",
   "metadata": {},
   "source": [
    "Since the output class is balanced, accuracy is used to measure the efficiency of the models. While the ensemble outperforms Bagging(0.84) and Decision Trees Classifier(0.87), it fails to perform better than the Random Forest Classifier as it obtained an accuracy of 0.93 on the validation set which is less than that of the Random Forest (0.97) on the same set."
   ]
  },
  {
   "cell_type": "markdown",
   "metadata": {},
   "source": [
    "## Q.no. 5 and 6 "
   ]
  },
  {
   "cell_type": "code",
   "execution_count": 7,
   "metadata": {},
   "outputs": [
    {
     "name": "stdout",
     "output_type": "stream",
     "text": [
      "Random Forest Accuracy:  0.9672\n",
      "Bagging Classifier Accuracy:  0.846\n",
      "Decision Trees Accuracy:  0.8692\n",
      "Voting Classifier(Revised) Accuracy:  0.9188\n"
     ]
    }
   ],
   "source": [
    "rnd_clf = RandomForestClassifier(n_estimators=100, random_state=42)\n",
    "rnd_clf.fit(X_train, y_train)\n",
    "y_pred_rf = rnd_clf.predict(X_test)\n",
    "print(\"Random Forest Accuracy: \", accuracy_score(y_test, y_pred_rf))\n",
    "\n",
    "bag_clf = BaggingClassifier(\n",
    "    DecisionTreeClassifier(random_state=42), n_estimators=500,\n",
    "    max_samples=100, bootstrap=True, random_state=42)\n",
    "bag_clf.fit(X_train, y_train)\n",
    "y_pred_bag = bag_clf.predict(X_test)\n",
    "print(\"Bagging Classifier Accuracy: \", accuracy_score(y_test, y_pred_bag))\n",
    "\n",
    "tree_clf = DecisionTreeClassifier(random_state=42)\n",
    "tree_clf.fit(X_train, y_train)\n",
    "y_pred_tree = tree_clf.predict(X_test)\n",
    "print(\"Decision Trees Accuracy: \", accuracy_score(y_test, y_pred_tree))\n",
    "\n",
    "voting_clf_updated = VotingClassifier(\n",
    "    estimators=[('rf', rnd_clf), ('dt', tree_clf)],\n",
    "    voting='hard') # hard voting\n",
    "voting_clf_updated.fit(X_train, y_train)\n",
    "y_pred_voting = voting_clf_updated.predict(X_test)\n",
    "print(\"Voting Classifier(Revised) Accuracy: \", accuracy_score(y_test, y_pred_voting))"
   ]
  },
  {
   "cell_type": "markdown",
   "metadata": {},
   "source": [
    "## Q.no. 7 "
   ]
  },
  {
   "cell_type": "markdown",
   "metadata": {},
   "source": [
    "The Random Forest, Bagging Classifier, and Decision Trees achieved a accuracy of 0.97, 0.85, 0.87 respecitively while the Voting Classifier achieved an accuracy of 0.92. The Voting Classifier exceeded the accuracy of Bagging Classifier and Decision Trees by  0.7 (7%) and 0.5 (5%) respectively on the test set. However, its accuracy is still outperformed by the Random Forest Classifier by 0.5 (5%) in the same set. Since the classifiers used in the voting algorithm are all tree-based classifiers, their errors are not independent hence the voting classifier was not able to outperform all the individual classifiers."
   ]
  }
 ],
 "metadata": {
  "kernelspec": {
   "display_name": "Python 3",
   "language": "python",
   "name": "python3"
  },
  "language_info": {
   "codemirror_mode": {
    "name": "ipython",
    "version": 3
   },
   "file_extension": ".py",
   "mimetype": "text/x-python",
   "name": "python",
   "nbconvert_exporter": "python",
   "pygments_lexer": "ipython3",
   "version": "3.8.3"
  }
 },
 "nbformat": 4,
 "nbformat_minor": 4
}
