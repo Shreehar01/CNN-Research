{
 "cells": [
  {
   "cell_type": "code",
   "execution_count": 33,
   "metadata": {},
   "outputs": [],
   "source": [
    "import pandas as pd\n",
    "import numpy as np"
   ]
  },
  {
   "cell_type": "code",
   "execution_count": 34,
   "metadata": {},
   "outputs": [
    {
     "data": {
      "text/html": [
       "<div>\n",
       "<style scoped>\n",
       "    .dataframe tbody tr th:only-of-type {\n",
       "        vertical-align: middle;\n",
       "    }\n",
       "\n",
       "    .dataframe tbody tr th {\n",
       "        vertical-align: top;\n",
       "    }\n",
       "\n",
       "    .dataframe thead th {\n",
       "        text-align: right;\n",
       "    }\n",
       "</style>\n",
       "<table border=\"1\" class=\"dataframe\">\n",
       "  <thead>\n",
       "    <tr style=\"text-align: right;\">\n",
       "      <th></th>\n",
       "      <th>salary</th>\n",
       "      <th>batting.avg</th>\n",
       "      <th>OBP</th>\n",
       "      <th>runs</th>\n",
       "      <th>hits</th>\n",
       "      <th>doubles</th>\n",
       "      <th>triples</th>\n",
       "      <th>homeruns</th>\n",
       "      <th>RBI</th>\n",
       "      <th>walks</th>\n",
       "      <th>strike.outs</th>\n",
       "      <th>stolen.bases</th>\n",
       "      <th>errors</th>\n",
       "      <th>free.agency.elig</th>\n",
       "      <th>free.agent.91</th>\n",
       "      <th>arb.elig</th>\n",
       "      <th>arb.91</th>\n",
       "      <th>name</th>\n",
       "    </tr>\n",
       "  </thead>\n",
       "  <tbody>\n",
       "    <tr>\n",
       "      <th>0</th>\n",
       "      <td>3300</td>\n",
       "      <td>0.272</td>\n",
       "      <td>0.302</td>\n",
       "      <td>69</td>\n",
       "      <td>153</td>\n",
       "      <td>21</td>\n",
       "      <td>4</td>\n",
       "      <td>31</td>\n",
       "      <td>104</td>\n",
       "      <td>22</td>\n",
       "      <td>80</td>\n",
       "      <td>4</td>\n",
       "      <td>3</td>\n",
       "      <td>1</td>\n",
       "      <td>0</td>\n",
       "      <td>0</td>\n",
       "      <td>0</td>\n",
       "      <td>Andre Dawson</td>\n",
       "    </tr>\n",
       "    <tr>\n",
       "      <th>1</th>\n",
       "      <td>2600</td>\n",
       "      <td>0.269</td>\n",
       "      <td>0.335</td>\n",
       "      <td>58</td>\n",
       "      <td>111</td>\n",
       "      <td>17</td>\n",
       "      <td>2</td>\n",
       "      <td>18</td>\n",
       "      <td>66</td>\n",
       "      <td>39</td>\n",
       "      <td>69</td>\n",
       "      <td>0</td>\n",
       "      <td>3</td>\n",
       "      <td>1</td>\n",
       "      <td>1</td>\n",
       "      <td>0</td>\n",
       "      <td>0</td>\n",
       "      <td>Steve Buchele</td>\n",
       "    </tr>\n",
       "    <tr>\n",
       "      <th>2</th>\n",
       "      <td>2500</td>\n",
       "      <td>0.249</td>\n",
       "      <td>0.337</td>\n",
       "      <td>54</td>\n",
       "      <td>115</td>\n",
       "      <td>15</td>\n",
       "      <td>1</td>\n",
       "      <td>17</td>\n",
       "      <td>73</td>\n",
       "      <td>63</td>\n",
       "      <td>116</td>\n",
       "      <td>6</td>\n",
       "      <td>5</td>\n",
       "      <td>1</td>\n",
       "      <td>0</td>\n",
       "      <td>0</td>\n",
       "      <td>0</td>\n",
       "      <td>Kal Daniels</td>\n",
       "    </tr>\n",
       "    <tr>\n",
       "      <th>3</th>\n",
       "      <td>2475</td>\n",
       "      <td>0.260</td>\n",
       "      <td>0.292</td>\n",
       "      <td>59</td>\n",
       "      <td>128</td>\n",
       "      <td>22</td>\n",
       "      <td>7</td>\n",
       "      <td>12</td>\n",
       "      <td>50</td>\n",
       "      <td>23</td>\n",
       "      <td>64</td>\n",
       "      <td>21</td>\n",
       "      <td>21</td>\n",
       "      <td>0</td>\n",
       "      <td>0</td>\n",
       "      <td>1</td>\n",
       "      <td>0</td>\n",
       "      <td>Shawon Dunston</td>\n",
       "    </tr>\n",
       "    <tr>\n",
       "      <th>4</th>\n",
       "      <td>2313</td>\n",
       "      <td>0.273</td>\n",
       "      <td>0.346</td>\n",
       "      <td>87</td>\n",
       "      <td>169</td>\n",
       "      <td>28</td>\n",
       "      <td>5</td>\n",
       "      <td>8</td>\n",
       "      <td>58</td>\n",
       "      <td>70</td>\n",
       "      <td>53</td>\n",
       "      <td>3</td>\n",
       "      <td>8</td>\n",
       "      <td>0</td>\n",
       "      <td>0</td>\n",
       "      <td>1</td>\n",
       "      <td>0</td>\n",
       "      <td>Mark Grace</td>\n",
       "    </tr>\n",
       "  </tbody>\n",
       "</table>\n",
       "</div>"
      ],
      "text/plain": [
       "   salary  batting.avg    OBP  runs  hits  doubles  triples  homeruns  RBI  \\\n",
       "0    3300        0.272  0.302    69   153       21        4        31  104   \n",
       "1    2600        0.269  0.335    58   111       17        2        18   66   \n",
       "2    2500        0.249  0.337    54   115       15        1        17   73   \n",
       "3    2475        0.260  0.292    59   128       22        7        12   50   \n",
       "4    2313        0.273  0.346    87   169       28        5         8   58   \n",
       "\n",
       "   walks  strike.outs  stolen.bases  errors  free.agency.elig  free.agent.91  \\\n",
       "0     22           80             4       3                 1              0   \n",
       "1     39           69             0       3                 1              1   \n",
       "2     63          116             6       5                 1              0   \n",
       "3     23           64            21      21                 0              0   \n",
       "4     70           53             3       8                 0              0   \n",
       "\n",
       "   arb.elig  arb.91               name  \n",
       "0         0       0  Andre Dawson       \n",
       "1         0       0  Steve Buchele      \n",
       "2         0       0  Kal Daniels        \n",
       "3         1       0  Shawon Dunston     \n",
       "4         1       0  Mark Grace         "
      ]
     },
     "execution_count": 34,
     "metadata": {},
     "output_type": "execute_result"
    }
   ],
   "source": [
    "baseball = pd.read_table(\"http://jse.amstat.org/datasets/baseball.dat.txt\", header = None, sep= \"\\s+\", \n",
    "                         names =[\"salary\", \"batting.avg\", \"OBP\", \"runs\",\"hits\", \"doubles\", \"triples\", \"homeruns\", \"RBI\", \"walks\", \"strike.outs\",\"stolen.bases\", \"errors\", \"free.agency.elig\", \"free.agent.91\", \"arb.elig\", \"arb.91\", \"name\"])\n",
    "baseball.head()"
   ]
  },
  {
   "cell_type": "markdown",
   "metadata": {},
   "source": [
    "# Q.no. 1. a."
   ]
  },
  {
   "cell_type": "code",
   "execution_count": 35,
   "metadata": {},
   "outputs": [
    {
     "name": "stderr",
     "output_type": "stream",
     "text": [
      "C:\\Users\\joshi\\anaconda3\\lib\\site-packages\\seaborn\\distributions.py:2619: FutureWarning: `distplot` is a deprecated function and will be removed in a future version. Please adapt your code to use either `displot` (a figure-level function with similar flexibility) or `histplot` (an axes-level function for histograms).\n",
      "  warnings.warn(msg, FutureWarning)\n"
     ]
    },
    {
     "data": {
      "text/plain": [
       "<matplotlib.axes._subplots.AxesSubplot at 0x157144a3070>"
      ]
     },
     "execution_count": 35,
     "metadata": {},
     "output_type": "execute_result"
    },
    {
     "data": {
      "image/png": "[encoded data removed]",
      "text/plain": [
       "<Figure size 432x288 with 1 Axes>"
      ]
     },
     "metadata": {
      "needs_background": "light"
     },
     "output_type": "display_data"
    }
   ],
   "source": [
    "import seaborn as sns\n",
    "sns.distplot(baseball['salary'])"
   ]
  },
  {
   "cell_type": "code",
   "execution_count": 36,
   "metadata": {},
   "outputs": [
    {
     "name": "stderr",
     "output_type": "stream",
     "text": [
      "C:\\Users\\joshi\\anaconda3\\lib\\site-packages\\seaborn\\distributions.py:2619: FutureWarning: `distplot` is a deprecated function and will be removed in a future version. Please adapt your code to use either `displot` (a figure-level function with similar flexibility) or `histplot` (an axes-level function for histograms).\n",
      "  warnings.warn(msg, FutureWarning)\n"
     ]
    },
    {
     "data": {
      "text/plain": [
       "<matplotlib.axes._subplots.AxesSubplot at 0x1571446be80>"
      ]
     },
     "execution_count": 36,
     "metadata": {},
     "output_type": "execute_result"
    },
    {
     "data": {
      "image/png": "[encoded data removed]",
      "text/plain": [
       "<Figure size 432x288 with 1 Axes>"
      ]
     },
     "metadata": {
      "needs_background": "light"
     },
     "output_type": "display_data"
    }
   ],
   "source": [
    "baseball['salary'] = np.log(baseball['salary'])\n",
    "sns.distplot(baseball['salary'])"
   ]
  },
  {
   "cell_type": "markdown",
   "metadata": {},
   "source": [
    "The histogram for the salary of the players is skewed right with majority of players having salary less than 1000 and the histogram for the logarithmic salary, which is bimodal in nature, is more uniformly distributed than the variable salary alone."
   ]
  },
  {
   "cell_type": "markdown",
   "metadata": {},
   "source": [
    "# Q.no.1. b."
   ]
  },
  {
   "cell_type": "code",
   "execution_count": 37,
   "metadata": {},
   "outputs": [
    {
     "data": {
      "text/plain": [
       "salary              0\n",
       "batting.avg         0\n",
       "OBP                 0\n",
       "runs                0\n",
       "hits                0\n",
       "doubles             0\n",
       "triples             0\n",
       "homeruns            0\n",
       "RBI                 0\n",
       "walks               0\n",
       "strike.outs         0\n",
       "stolen.bases        0\n",
       "errors              0\n",
       "free.agency.elig    0\n",
       "free.agent.91       0\n",
       "arb.elig            0\n",
       "arb.91              0\n",
       "name                0\n",
       "dtype: int64"
      ]
     },
     "execution_count": 37,
     "metadata": {},
     "output_type": "execute_result"
    }
   ],
   "source": [
    "baseball.isnull().sum()"
   ]
  },
  {
   "cell_type": "code",
   "execution_count": 38,
   "metadata": {},
   "outputs": [
    {
     "data": {
      "text/plain": [
       "salary              float64\n",
       "batting.avg         float64\n",
       "OBP                 float64\n",
       "runs                  int64\n",
       "hits                  int64\n",
       "doubles               int64\n",
       "triples               int64\n",
       "homeruns              int64\n",
       "RBI                   int64\n",
       "walks                 int64\n",
       "strike.outs           int64\n",
       "stolen.bases          int64\n",
       "errors                int64\n",
       "free.agency.elig      int64\n",
       "free.agent.91         int64\n",
       "arb.elig              int64\n",
       "arb.91                int64\n",
       "name                 object\n",
       "dtype: object"
      ]
     },
     "execution_count": 38,
     "metadata": {},
     "output_type": "execute_result"
    }
   ],
   "source": [
    "baseball.dtypes"
   ]
  },
  {
   "cell_type": "markdown",
   "metadata": {},
   "source": [
    "There are no missing values. There is one categorical variable (name), three continous variables (salary, battingavg, and OBP), and 14 of the remaining variables (represented as int64 above) are integer counts. "
   ]
  },
  {
   "cell_type": "markdown",
   "metadata": {},
   "source": [
    "# Q.no.2. a."
   ]
  },
  {
   "cell_type": "code",
   "execution_count": 39,
   "metadata": {},
   "outputs": [
    {
     "data": {
      "text/html": [
       "<table class=\"simpletable\">\n",
       "<caption>OLS Regression Results</caption>\n",
       "<tr>\n",
       "  <th>Dep. Variable:</th>         <td>salary</td>      <th>  R-squared:         </th> <td>   0.802</td> \n",
       "</tr>\n",
       "<tr>\n",
       "  <th>Model:</th>                   <td>OLS</td>       <th>  Adj. R-squared:    </th> <td>   0.792</td> \n",
       "</tr>\n",
       "<tr>\n",
       "  <th>Method:</th>             <td>Least Squares</td>  <th>  F-statistic:       </th> <td>   80.92</td> \n",
       "</tr>\n",
       "<tr>\n",
       "  <th>Date:</th>             <td>Sun, 24 Oct 2021</td> <th>  Prob (F-statistic):</th> <td>4.63e-102</td>\n",
       "</tr>\n",
       "<tr>\n",
       "  <th>Time:</th>                 <td>16:25:16</td>     <th>  Log-Likelihood:    </th> <td> -259.75</td> \n",
       "</tr>\n",
       "<tr>\n",
       "  <th>No. Observations:</th>      <td>   337</td>      <th>  AIC:               </th> <td>   553.5</td> \n",
       "</tr>\n",
       "<tr>\n",
       "  <th>Df Residuals:</th>          <td>   320</td>      <th>  BIC:               </th> <td>   618.4</td> \n",
       "</tr>\n",
       "<tr>\n",
       "  <th>Df Model:</th>              <td>    16</td>      <th>                     </th>     <td> </td>    \n",
       "</tr>\n",
       "<tr>\n",
       "  <th>Covariance Type:</th>      <td>nonrobust</td>    <th>                     </th>     <td> </td>    \n",
       "</tr>\n",
       "</table>\n",
       "<table class=\"simpletable\">\n",
       "<tr>\n",
       "         <td></td>           <th>coef</th>     <th>std err</th>      <th>t</th>      <th>P>|t|</th>  <th>[0.025</th>    <th>0.975]</th>  \n",
       "</tr>\n",
       "<tr>\n",
       "  <th>Intercept</th>      <td>    5.3951</td> <td>    0.257</td> <td>   20.976</td> <td> 0.000</td> <td>    4.889</td> <td>    5.901</td>\n",
       "</tr>\n",
       "<tr>\n",
       "  <th>battingavg</th>     <td>    0.9018</td> <td>    2.097</td> <td>    0.430</td> <td> 0.667</td> <td>   -3.224</td> <td>    5.027</td>\n",
       "</tr>\n",
       "<tr>\n",
       "  <th>OBP</th>            <td>   -2.1970</td> <td>    1.837</td> <td>   -1.196</td> <td> 0.233</td> <td>   -5.811</td> <td>    1.417</td>\n",
       "</tr>\n",
       "<tr>\n",
       "  <th>runs</th>           <td>    0.0011</td> <td>    0.004</td> <td>    0.249</td> <td> 0.804</td> <td>   -0.007</td> <td>    0.010</td>\n",
       "</tr>\n",
       "<tr>\n",
       "  <th>hits</th>           <td>    0.0049</td> <td>    0.003</td> <td>    1.931</td> <td> 0.054</td> <td>-9.37e-05</td> <td>    0.010</td>\n",
       "</tr>\n",
       "<tr>\n",
       "  <th>doubles</th>        <td>   -0.0024</td> <td>    0.007</td> <td>   -0.359</td> <td> 0.720</td> <td>   -0.015</td> <td>    0.011</td>\n",
       "</tr>\n",
       "<tr>\n",
       "  <th>triples</th>        <td>   -0.0168</td> <td>    0.017</td> <td>   -1.007</td> <td> 0.315</td> <td>   -0.050</td> <td>    0.016</td>\n",
       "</tr>\n",
       "<tr>\n",
       "  <th>homeruns</th>       <td>    0.0043</td> <td>    0.010</td> <td>    0.440</td> <td> 0.660</td> <td>   -0.015</td> <td>    0.023</td>\n",
       "</tr>\n",
       "<tr>\n",
       "  <th>RBI</th>            <td>    0.0099</td> <td>    0.004</td> <td>    2.535</td> <td> 0.012</td> <td>    0.002</td> <td>    0.018</td>\n",
       "</tr>\n",
       "<tr>\n",
       "  <th>walks</th>          <td>    0.0052</td> <td>    0.003</td> <td>    1.501</td> <td> 0.134</td> <td>   -0.002</td> <td>    0.012</td>\n",
       "</tr>\n",
       "<tr>\n",
       "  <th>strikeouts</th>     <td>   -0.0055</td> <td>    0.002</td> <td>   -3.289</td> <td> 0.001</td> <td>   -0.009</td> <td>   -0.002</td>\n",
       "</tr>\n",
       "<tr>\n",
       "  <th>stolenbases</th>    <td>    0.0047</td> <td>    0.004</td> <td>    1.289</td> <td> 0.198</td> <td>   -0.002</td> <td>    0.012</td>\n",
       "</tr>\n",
       "<tr>\n",
       "  <th>errors</th>         <td>   -0.0079</td> <td>    0.006</td> <td>   -1.368</td> <td> 0.172</td> <td>   -0.019</td> <td>    0.003</td>\n",
       "</tr>\n",
       "<tr>\n",
       "  <th>freeagencyelig</th> <td>    1.5903</td> <td>    0.084</td> <td>   18.944</td> <td> 0.000</td> <td>    1.425</td> <td>    1.755</td>\n",
       "</tr>\n",
       "<tr>\n",
       "  <th>freeagent91</th>    <td>   -0.2596</td> <td>    0.106</td> <td>   -2.440</td> <td> 0.015</td> <td>   -0.469</td> <td>   -0.050</td>\n",
       "</tr>\n",
       "<tr>\n",
       "  <th>arbelig</th>        <td>    1.3183</td> <td>    0.091</td> <td>   14.417</td> <td> 0.000</td> <td>    1.138</td> <td>    1.498</td>\n",
       "</tr>\n",
       "<tr>\n",
       "  <th>arb91</th>          <td>   -0.0753</td> <td>    0.187</td> <td>   -0.403</td> <td> 0.687</td> <td>   -0.443</td> <td>    0.293</td>\n",
       "</tr>\n",
       "</table>\n",
       "<table class=\"simpletable\">\n",
       "<tr>\n",
       "  <th>Omnibus:</th>       <td>44.640</td> <th>  Durbin-Watson:     </th> <td>   1.831</td>\n",
       "</tr>\n",
       "<tr>\n",
       "  <th>Prob(Omnibus):</th> <td> 0.000</td> <th>  Jarque-Bera (JB):  </th> <td> 136.062</td>\n",
       "</tr>\n",
       "<tr>\n",
       "  <th>Skew:</th>          <td>-0.570</td> <th>  Prob(JB):          </th> <td>2.85e-30</td>\n",
       "</tr>\n",
       "<tr>\n",
       "  <th>Kurtosis:</th>      <td> 5.896</td> <th>  Cond. No.          </th> <td>1.40e+04</td>\n",
       "</tr>\n",
       "</table><br/><br/>Warnings:<br/>[1] Standard Errors assume that the covariance matrix of the errors is correctly specified.<br/>[2] The condition number is large, 1.4e+04. This might indicate that there are<br/>strong multicollinearity or other numerical problems."
      ],
      "text/plain": [
       "<class 'statsmodels.iolib.summary.Summary'>\n",
       "\"\"\"\n",
       "                            OLS Regression Results                            \n",
       "==============================================================================\n",
       "Dep. Variable:                 salary   R-squared:                       0.802\n",
       "Model:                            OLS   Adj. R-squared:                  0.792\n",
       "Method:                 Least Squares   F-statistic:                     80.92\n",
       "Date:                Sun, 24 Oct 2021   Prob (F-statistic):          4.63e-102\n",
       "Time:                        16:25:16   Log-Likelihood:                -259.75\n",
       "No. Observations:                 337   AIC:                             553.5\n",
       "Df Residuals:                     320   BIC:                             618.4\n",
       "Df Model:                          16                                         \n",
       "Covariance Type:            nonrobust                                         \n",
       "==================================================================================\n",
       "                     coef    std err          t      P>|t|      [0.025      0.975]\n",
       "----------------------------------------------------------------------------------\n",
       "Intercept          5.3951      0.257     20.976      0.000       4.889       5.901\n",
       "battingavg         0.9018      2.097      0.430      0.667      -3.224       5.027\n",
       "OBP               -2.1970      1.837     -1.196      0.233      -5.811       1.417\n",
       "runs               0.0011      0.004      0.249      0.804      -0.007       0.010\n",
       "hits               0.0049      0.003      1.931      0.054   -9.37e-05       0.010\n",
       "doubles           -0.0024      0.007     -0.359      0.720      -0.015       0.011\n",
       "triples           -0.0168      0.017     -1.007      0.315      -0.050       0.016\n",
       "homeruns           0.0043      0.010      0.440      0.660      -0.015       0.023\n",
       "RBI                0.0099      0.004      2.535      0.012       0.002       0.018\n",
       "walks              0.0052      0.003      1.501      0.134      -0.002       0.012\n",
       "strikeouts        -0.0055      0.002     -3.289      0.001      -0.009      -0.002\n",
       "stolenbases        0.0047      0.004      1.289      0.198      -0.002       0.012\n",
       "errors            -0.0079      0.006     -1.368      0.172      -0.019       0.003\n",
       "freeagencyelig     1.5903      0.084     18.944      0.000       1.425       1.755\n",
       "freeagent91       -0.2596      0.106     -2.440      0.015      -0.469      -0.050\n",
       "arbelig            1.3183      0.091     14.417      0.000       1.138       1.498\n",
       "arb91             -0.0753      0.187     -0.403      0.687      -0.443       0.293\n",
       "==============================================================================\n",
       "Omnibus:                       44.640   Durbin-Watson:                   1.831\n",
       "Prob(Omnibus):                  0.000   Jarque-Bera (JB):              136.062\n",
       "Skew:                          -0.570   Prob(JB):                     2.85e-30\n",
       "Kurtosis:                       5.896   Cond. No.                     1.40e+04\n",
       "==============================================================================\n",
       "\n",
       "Warnings:\n",
       "[1] Standard Errors assume that the covariance matrix of the errors is correctly specified.\n",
       "[2] The condition number is large, 1.4e+04. This might indicate that there are\n",
       "strong multicollinearity or other numerical problems.\n",
       "\"\"\""
      ]
     },
     "execution_count": 39,
     "metadata": {},
     "output_type": "execute_result"
    }
   ],
   "source": [
    "baseball = baseball.rename(columns = {\"batting.avg\":\"battingavg\", \"strike.outs\":\"strikeouts\",\n",
    "                                      \"stolen.bases\":\"stolenbases\", \"free.agency.elig\":\"freeagencyelig\", \n",
    "                                      \"free.agent.91\":\"freeagent91\", \"arb.elig\":\"arbelig\", \"arb.91\":\"arb91\"})\n",
    "import statsmodels.formula.api as smf  \n",
    "fit_full = smf.ols(formula='salary ~ battingavg + OBP + runs + hits + doubles + triples + homeruns + RBI + walks + strikeouts + stolenbases + errors + freeagencyelig + freeagent91 + arbelig + arb91', data=baseball).fit()\n",
    "fit_full.summary()"
   ]
  },
  {
   "cell_type": "markdown",
   "metadata": {},
   "source": [
    "======================================================================================================    \n",
    "\n",
    "The above R-squared value of 0.802 or Residual is the training performance obtained using the data used to create the model.\n",
    "\n",
    "Since the p-value of the F statistic is very small (4.63e-102), the model is valid (at least one variable is related to the response)\n",
    "\n",
    "The p-values of hits, RBI, strikeouts, freeagencyelig, freeagent91, and arbelig are meaningful. However, since the p-value of the battingavg, runs, doubles, homeruns, and arb91 exceed 0.50, the null-hypothesis that \"The respective variable is not related to the response\" cannot be rejected. Therefore, it is not suitable to include the variables battingavg, runs, doubles, homeruns, and arb91 in the model."
   ]
  },
  {
   "cell_type": "markdown",
   "metadata": {},
   "source": [
    "# Q.no.3. a."
   ]
  },
  {
   "cell_type": "code",
   "execution_count": 40,
   "metadata": {},
   "outputs": [],
   "source": [
    "from sklearn.preprocessing import scale \n",
    "from sklearn.model_selection import train_test_split\n",
    "from sklearn.linear_model import Ridge, RidgeCV, Lasso, LassoCV\n",
    "from sklearn.metrics import mean_squared_error"
   ]
  },
  {
   "cell_type": "code",
   "execution_count": 41,
   "metadata": {},
   "outputs": [],
   "source": [
    "X = baseball.drop(['salary', 'name'], axis = 1)\n",
    "y = baseball.salary\n",
    "X_D0, X_D1 , y_D0, y_D1 = train_test_split(X, y, test_size=0.33, random_state=42)"
   ]
  },
  {
   "cell_type": "markdown",
   "metadata": {},
   "source": [
    "# Q.no.3. b.i."
   ]
  },
  {
   "cell_type": "code",
   "execution_count": 42,
   "metadata": {},
   "outputs": [
    {
     "data": {
      "text/plain": [
       "Ridge(alpha=0.026683496156031508, normalize=True)"
      ]
     },
     "execution_count": 42,
     "metadata": {},
     "output_type": "execute_result"
    }
   ],
   "source": [
    "alphas = 10**np.linspace(10,-2,100)*0.5\n",
    "ridgecv = RidgeCV(alphas = alphas, cv= 10, scoring = 'neg_mean_squared_error', normalize = True)\n",
    "ridgecv.fit(X_D0, y_D0)\n",
    "ridgecv.alpha_\n",
    "\n",
    "ridge = Ridge(alpha = ridgecv.alpha_, normalize = True)\n",
    "ridge.fit(X_D0, y_D0)"
   ]
  },
  {
   "cell_type": "markdown",
   "metadata": {},
   "source": [
    "# Q.no.3. b.ii."
   ]
  },
  {
   "cell_type": "code",
   "execution_count": 43,
   "metadata": {},
   "outputs": [
    {
     "data": {
      "text/plain": [
       "Lasso(alpha=0.005)"
      ]
     },
     "execution_count": 43,
     "metadata": {},
     "output_type": "execute_result"
    }
   ],
   "source": [
    "lassocv = LassoCV(alphas = alphas, cv = 10, max_iter = 100000, normalize = True)\n",
    "lassocv.fit(X_D0, y_D0)\n",
    "lassocv.alpha_\n",
    "\n",
    "lasso = Lasso(alpha = lassocv.alpha_)\n",
    "lasso.fit(X_D0, y_D0)"
   ]
  },
  {
   "cell_type": "markdown",
   "metadata": {},
   "source": [
    "# Q.no.3. c."
   ]
  },
  {
   "cell_type": "markdown",
   "metadata": {},
   "source": [
    "Comment======================================"
   ]
  },
  {
   "cell_type": "markdown",
   "metadata": {},
   "source": [
    "# Q.no.3. d."
   ]
  },
  {
   "cell_type": "code",
   "execution_count": 44,
   "metadata": {},
   "outputs": [
    {
     "data": {
      "text/plain": [
       "battingavg       -0.026696\n",
       "OBP              -1.193753\n",
       "runs             -0.003033\n",
       "hits              0.006111\n",
       "doubles          -0.001098\n",
       "triples          -0.010288\n",
       "homeruns          0.003594\n",
       "RBI               0.009204\n",
       "walks             0.005465\n",
       "strikeouts       -0.003281\n",
       "stolenbases       0.001835\n",
       "errors           -0.010493\n",
       "freeagencyelig    1.612707\n",
       "freeagent91      -0.405020\n",
       "arbelig           1.283800\n",
       "arb91            -0.083832\n",
       "dtype: float64"
      ]
     },
     "execution_count": 44,
     "metadata": {},
     "output_type": "execute_result"
    }
   ],
   "source": [
    "pd.Series(ridge.coef_, index = X.columns)"
   ]
  },
  {
   "cell_type": "code",
   "execution_count": 45,
   "metadata": {},
   "outputs": [
    {
     "data": {
      "text/plain": [
       "battingavg       -0.000000\n",
       "OBP              -0.000000\n",
       "runs             -0.007047\n",
       "hits              0.007559\n",
       "doubles          -0.003270\n",
       "triples          -0.009876\n",
       "homeruns          0.003859\n",
       "RBI               0.010088\n",
       "walks             0.005054\n",
       "strikeouts       -0.002976\n",
       "stolenbases       0.003518\n",
       "errors           -0.011724\n",
       "freeagencyelig    1.636456\n",
       "freeagent91      -0.375027\n",
       "arbelig           1.295248\n",
       "arb91            -0.000000\n",
       "dtype: float64"
      ]
     },
     "execution_count": 45,
     "metadata": {},
     "output_type": "execute_result"
    }
   ],
   "source": [
    "pd.Series(lasso.coef_, index = X.columns)"
   ]
  },
  {
   "cell_type": "markdown",
   "metadata": {},
   "source": [
    "# Q.no.3. e."
   ]
  },
  {
   "cell_type": "code",
   "execution_count": 46,
   "metadata": {},
   "outputs": [
    {
     "data": {
      "text/plain": [
       "0.32470580502716356"
      ]
     },
     "execution_count": 46,
     "metadata": {},
     "output_type": "execute_result"
    }
   ],
   "source": [
    "mean_squared_error(y_D1, ridge.predict(X_D1))"
   ]
  },
  {
   "cell_type": "code",
   "execution_count": 47,
   "metadata": {},
   "outputs": [
    {
     "data": {
      "text/plain": [
       "0.3340127864886142"
      ]
     },
     "execution_count": 47,
     "metadata": {},
     "output_type": "execute_result"
    }
   ],
   "source": [
    "mean_squared_error(y_D1, lasso.predict(X_D1))"
   ]
  },
  {
   "cell_type": "markdown",
   "metadata": {},
   "source": [
    "# Q.no.4"
   ]
  },
  {
   "cell_type": "code",
   "execution_count": 48,
   "metadata": {},
   "outputs": [
    {
     "data": {
      "text/plain": [
       "battingavg        0.596579\n",
       "OBP              -1.779626\n",
       "runs              0.002238\n",
       "hits              0.004542\n",
       "doubles           0.000343\n",
       "triples          -0.015405\n",
       "homeruns          0.005968\n",
       "RBI               0.008480\n",
       "walks             0.004629\n",
       "strikeouts       -0.004994\n",
       "stolenbases       0.004018\n",
       "errors           -0.007587\n",
       "freeagencyelig    1.506393\n",
       "freeagent91      -0.203964\n",
       "arbelig           1.245256\n",
       "arb91            -0.055978\n",
       "dtype: float64"
      ]
     },
     "execution_count": 48,
     "metadata": {},
     "output_type": "execute_result"
    }
   ],
   "source": [
    "alphas = 10**np.linspace(10,-2,100)*0.5\n",
    "ridgecv = RidgeCV(alphas = alphas, cv= 10, scoring = 'neg_mean_squared_error', normalize = True)\n",
    "ridgecv.fit(X, y)\n",
    "ridgecv.alpha_\n",
    "\n",
    "fit_final = Ridge(alpha = ridgecv.alpha_, normalize = True)\n",
    "fit_final.fit(X, y)\n",
    "\n",
    "pd.Series(fit_final.coef_, index = X.columns)"
   ]
  },
  {
   "cell_type": "markdown",
   "metadata": {},
   "source": [
    "Both the models have larger weights for the same variables (battingavg, OBP, freeagencyelig, freeagent91, and arbelig) and none of the models eliminate any of the variables."
   ]
  }
 ],
 "metadata": {
  "kernelspec": {
   "display_name": "Python 3",
   "language": "python",
   "name": "python3"
  },
  "language_info": {
   "codemirror_mode": {
    "name": "ipython",
    "version": 3
   },
   "file_extension": ".py",
   "mimetype": "text/x-python",
   "name": "python",
   "nbconvert_exporter": "python",
   "pygments_lexer": "ipython3",
   "version": "3.8.3"
  }
 },
 "nbformat": 4,
 "nbformat_minor": 4
}
