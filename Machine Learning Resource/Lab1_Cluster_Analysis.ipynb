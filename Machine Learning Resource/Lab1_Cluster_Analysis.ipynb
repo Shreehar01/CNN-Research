{
 "cells": [
  {
   "cell_type": "markdown",
   "metadata": {},
   "source": [
    "# CMPS 320\n",
    "## Lab 1: Cluster Analysis"
   ]
  },
  {
   "cell_type": "code",
   "execution_count": 1,
   "metadata": {},
   "outputs": [],
   "source": [
    "import pandas as pd\n",
    "import numpy as np\n",
    "import matplotlib as mpl\n",
    "import matplotlib.pyplot as plt\n",
    "import seaborn as sns\n",
    "\n",
    "from sklearn.preprocessing import scale\n",
    "\n",
    "%matplotlib inline\n",
    "plt.style.use('seaborn-white')"
   ]
  },
  {
   "cell_type": "markdown",
   "metadata": {},
   "source": [
    "## Perform K-Means Clustering"
   ]
  },
  {
   "cell_type": "markdown",
   "metadata": {},
   "source": [
    "We begin with a simple simulated example in which there truly are two clusters in the\n",
    "data: the first 25 observations have a mean shift relative to the next 25 observations."
   ]
  },
  {
   "cell_type": "code",
   "execution_count": 3,
   "metadata": {},
   "outputs": [
    {
     "name": "stdout",
     "output_type": "stream",
     "text": [
      "The value of X [[-4.16757847e-01 -5.62668272e-02]\n",
      " [-2.13619610e+00  1.64027081e+00]\n",
      " [-1.79343559e+00 -8.41747366e-01]\n",
      " [ 5.02881417e-01 -1.24528809e+00]\n",
      " [-1.05795222e+00 -9.09007615e-01]\n",
      " [ 5.51454045e-01  2.29220801e+00]\n",
      " [ 4.15393930e-02 -1.11792545e+00]\n",
      " [ 5.39058321e-01 -5.96159700e-01]\n",
      " [-1.91304965e-02  1.17500122e+00]\n",
      " [-7.47870949e-01  9.02525097e-03]\n",
      " [-8.78107893e-01 -1.56434170e-01]\n",
      " [ 2.56570452e-01 -9.88779049e-01]\n",
      " [-3.38821966e-01 -2.36184031e-01]\n",
      " [-6.37655012e-01 -1.18761229e+00]\n",
      " [-1.42121723e+00 -1.53495196e-01]\n",
      " [-2.69056960e-01  2.23136679e+00]\n",
      " [-2.43476758e+00  1.12726505e-01]\n",
      " [ 3.70444537e-01  1.35963386e+00]\n",
      " [ 5.01857207e-01 -8.44213704e-01]\n",
      " [ 9.76147160e-06  5.42352572e-01]\n",
      " [-3.13508197e-01  7.71011738e-01]\n",
      " [-1.86809065e+00  1.73118467e+00]\n",
      " [ 1.46767801e+00 -3.35677339e-01]\n",
      " [ 6.11340780e-01  4.79705919e-02]\n",
      " [-8.29135289e-01  8.77102184e-02]\n",
      " [ 1.00036589e+00 -3.81092518e-01]\n",
      " [-3.75669423e-01 -7.44707629e-02]\n",
      " [ 4.33496330e-01  1.27837923e+00]\n",
      " [-6.34679305e-01  5.08396243e-01]\n",
      " [ 2.16116006e-01 -1.85861239e+00]\n",
      " [-4.19316482e-01 -1.32328898e-01]\n",
      " [-3.95702397e-02  3.26003433e-01]\n",
      " [-2.04032305e+00  4.62555231e-02]\n",
      " [-6.77675577e-01 -1.43943903e+00]\n",
      " [ 5.24296430e-01  7.35279576e-01]\n",
      " [-6.53250268e-01  8.42456282e-01]\n",
      " [-3.81516482e-01  6.64890091e-02]\n",
      " [-1.09873895e+00  1.58448706e+00]\n",
      " [-2.65944946e+00 -9.14526229e-02]\n",
      " [ 6.95119605e-01 -2.03346655e+00]\n",
      " [-1.89469265e-01 -7.72186654e-02]\n",
      " [ 8.24703005e-01  1.24821292e+00]\n",
      " [-4.03892269e-01 -1.38451867e+00]\n",
      " [ 1.36723542e+00  1.21788563e+00]\n",
      " [-4.62005348e-01  3.50888494e-01]\n",
      " [ 3.81866234e-01  5.66275441e-01]\n",
      " [ 2.04207979e-01  1.40669624e+00]\n",
      " [-1.73795950e+00  1.04082395e+00]\n",
      " [ 3.80471970e-01 -2.17135269e-01]\n",
      " [ 1.17353150e+00 -2.34360319e+00]]\n",
      "The subset is [-4.16757847e-01 -2.13619610e+00 -1.79343559e+00  5.02881417e-01\n",
      " -1.05795222e+00  5.51454045e-01  4.15393930e-02  5.39058321e-01\n",
      " -1.91304965e-02 -7.47870949e-01 -8.78107893e-01  2.56570452e-01\n",
      " -3.38821966e-01 -6.37655012e-01 -1.42121723e+00 -2.69056960e-01\n",
      " -2.43476758e+00  3.70444537e-01  5.01857207e-01  9.76147160e-06\n",
      " -3.13508197e-01 -1.86809065e+00  1.46767801e+00  6.11340780e-01\n",
      " -8.29135289e-01]\n"
     ]
    }
   ],
   "source": [
    "# Generate data\n",
    "np.random.seed(2)\n",
    "X = np.random.standard_normal((50,2))\n",
    "print(\"The value of X\", X)\n",
    "print(\"The subset is\", X[:25,0])\n",
    "X[:25,0] = X[:25,0]+3\n",
    "X[:25,1] = X[:25,1]-4"
   ]
  },
  {
   "cell_type": "code",
   "execution_count": 5,
   "metadata": {},
   "outputs": [
    {
     "name": "stdout",
     "output_type": "stream",
     "text": [
      "The resulting subset is [2.58324215 0.8638039  1.20656441 3.50288142 1.94204778 3.55145404\n",
      " 3.04153939 3.53905832 2.9808695  2.25212905 2.12189211 3.25657045\n",
      " 2.66117803 2.36234499 1.57878277 2.73094304 0.56523242 3.37044454\n",
      " 3.50185721 3.00000976 2.6864918  1.13190935 4.46767801 3.61134078\n",
      " 2.17086471]\n"
     ]
    }
   ],
   "source": [
    "print(\"The resulting subset is\", X[:25,0])"
   ]
  },
  {
   "cell_type": "code",
   "execution_count": 4,
   "metadata": {},
   "outputs": [
    {
     "name": "stdout",
     "output_type": "stream",
     "text": [
      "The intermediate is [ 2.58324215  0.8638039   1.20656441  3.50288142  1.94204778  3.55145404\n",
      "  3.04153939  3.53905832  2.9808695   2.25212905  2.12189211  3.25657045\n",
      "  2.66117803  2.36234499  1.57878277  2.73094304  0.56523242  3.37044454\n",
      "  3.50185721  3.00000976  2.6864918   1.13190935  4.46767801  3.61134078\n",
      "  2.17086471  1.00036589 -0.37566942  0.43349633 -0.63467931  0.21611601\n",
      " -0.41931648 -0.03957024 -2.04032305 -0.67767558  0.52429643 -0.65325027\n",
      " -0.38151648 -1.09873895 -2.65944946  0.69511961 -0.18946926  0.82470301\n",
      " -0.40389227  1.36723542 -0.46200535  0.38186623  0.20420798 -1.7379595\n",
      "  0.38047197  1.1735315 ]\n"
     ]
    },
    {
     "data": {
      "image/png": "[encoded data removed]",
      "text/plain": [
       "<Figure size 432x288 with 1 Axes>"
      ]
     },
     "metadata": {},
     "output_type": "display_data"
    }
   ],
   "source": [
    "# Plot of the generated unlabeled datasets\n",
    "print(\"The intermediate is\", X[:,0])\n",
    "plt.scatter(X[:,0], X[:,1])\n",
    "plt.show()"
   ]
  },
  {
   "cell_type": "markdown",
   "metadata": {},
   "source": [
    "We now perform K-means clustering with $K = 2$."
   ]
  },
  {
   "cell_type": "code",
   "execution_count": 10,
   "metadata": {},
   "outputs": [
    {
     "data": {
      "text/plain": [
       "KMeans(n_clusters=2, n_init=20)"
      ]
     },
     "execution_count": 10,
     "metadata": {},
     "output_type": "execute_result"
    }
   ],
   "source": [
    "from sklearn.cluster import KMeans\n",
    "km1 = KMeans(n_clusters=2, n_init=20)\n",
    "km1.fit(X)"
   ]
  },
  {
   "cell_type": "markdown",
   "metadata": {},
   "source": [
    "The cluster assignments of the 50 observations are contained in km1.labels_"
   ]
  },
  {
   "cell_type": "code",
   "execution_count": 11,
   "metadata": {},
   "outputs": [
    {
     "data": {
      "text/plain": [
       "array([1, 1, 1, 1, 1, 1, 1, 1, 1, 1, 1, 1, 1, 1, 1, 1, 1, 1, 1, 1, 1, 1,\n",
       "       1, 1, 1, 0, 0, 0, 0, 0, 0, 0, 0, 0, 0, 0, 0, 0, 0, 0, 0, 0, 0, 0,\n",
       "       0, 0, 0, 0, 0, 1], dtype=int32)"
      ]
     },
     "execution_count": 11,
     "metadata": {},
     "output_type": "execute_result"
    }
   ],
   "source": [
    "km1.labels_"
   ]
  },
  {
   "cell_type": "markdown",
   "metadata": {},
   "source": [
    "The K-means clustering perfectly separated the observations into two clusters\n",
    "even though we did not supply any group information to kmeans(). "
   ]
  },
  {
   "cell_type": "markdown",
   "metadata": {},
   "source": [
    "In this example, we knew that there really were two clusters because we generated the data. However, for real data, in general we do not know the true number of clusters. We could instead have performed K-means clustering on this example with $K = 3$."
   ]
  },
  {
   "cell_type": "code",
   "execution_count": 12,
   "metadata": {},
   "outputs": [
    {
     "data": {
      "text/plain": [
       "KMeans(n_clusters=3, n_init=20)"
      ]
     },
     "execution_count": 12,
     "metadata": {},
     "output_type": "execute_result"
    }
   ],
   "source": [
    "np.random.seed(4)\n",
    "km2 = KMeans(n_clusters=3, n_init=20)\n",
    "km2.fit(X)"
   ]
  },
  {
   "cell_type": "code",
   "execution_count": 13,
   "metadata": {},
   "outputs": [
    {
     "data": {
      "text/plain": [
       "1    21\n",
       "0    20\n",
       "2     9\n",
       "dtype: int64"
      ]
     },
     "execution_count": 13,
     "metadata": {},
     "output_type": "execute_result"
    }
   ],
   "source": [
    "pd.Series(km2.labels_).value_counts()"
   ]
  },
  {
   "cell_type": "markdown",
   "metadata": {},
   "source": [
    "K-means clustering with 3 clusters of sizes $21, 20$, and  $9$"
   ]
  },
  {
   "cell_type": "code",
   "execution_count": 14,
   "metadata": {},
   "outputs": [
    {
     "data": {
      "text/plain": [
       "array([[-0.27876523,  0.51224152],\n",
       "       [ 2.82805911, -4.11351797],\n",
       "       [ 0.69945422, -2.14934345]])"
      ]
     },
     "execution_count": 14,
     "metadata": {},
     "output_type": "execute_result"
    }
   ],
   "source": [
    "# Check cluster means or centrioids the algorithm found\n",
    "km2.cluster_centers_"
   ]
  },
  {
   "cell_type": "code",
   "execution_count": 15,
   "metadata": {},
   "outputs": [
    {
     "data": {
      "text/plain": [
       "array([1, 2, 1, 1, 1, 1, 1, 1, 1, 1, 1, 1, 1, 1, 1, 2, 2, 1, 1, 1, 1, 2,\n",
       "       1, 1, 1, 0, 0, 0, 0, 2, 0, 0, 0, 2, 0, 0, 0, 0, 0, 2, 0, 0, 2, 0,\n",
       "       0, 0, 0, 0, 0, 2], dtype=int32)"
      ]
     },
     "execution_count": 15,
     "metadata": {},
     "output_type": "execute_result"
    }
   ],
   "source": [
    "# Check cluster assignments of the 50 observations\n",
    "km2.labels_"
   ]
  },
  {
   "cell_type": "code",
   "execution_count": 16,
   "metadata": {},
   "outputs": [
    {
     "data": {
      "text/plain": [
       "68.97379200939724"
      ]
     },
     "execution_count": 16,
     "metadata": {},
     "output_type": "execute_result"
    }
   ],
   "source": [
    "# Check mean squared distance of samples to their closest cluster center.\n",
    "km2.inertia_"
   ]
  },
  {
   "cell_type": "markdown",
   "metadata": {},
   "source": [
    "We can plot the data, with each observation colored according to its cluster\n",
    "assignment."
   ]
  },
  {
   "cell_type": "code",
   "execution_count": 17,
   "metadata": {},
   "outputs": [
    {
     "data": {
      "image/png": "[encoded data removed]",
      "text/plain": [
       "<Figure size 1008x360 with 2 Axes>"
      ]
     },
     "metadata": {},
     "output_type": "display_data"
    }
   ],
   "source": [
    "fig, (ax1, ax2) = plt.subplots(1,2, figsize=(14,5))\n",
    "\n",
    "ax1.scatter(X[:,0], X[:,1], s=40, c=km1.labels_, cmap=plt.cm.prism) \n",
    "ax1.set_title('K-Means Clustering Results with K=2')\n",
    "ax1.scatter(km1.cluster_centers_[:,0], km1.cluster_centers_[:,1], marker='+', s=100, c='k', linewidth=2)\n",
    "\n",
    "ax2.scatter(X[:,0], X[:,1], s=40, c=km2.labels_, cmap=plt.cm.prism) \n",
    "ax2.set_title('K-Means Clustering Results with K=3')\n",
    "ax2.scatter(km2.cluster_centers_[:,0], km2.cluster_centers_[:,1], marker='+', s=100, c='k', linewidth=2);"
   ]
  },
  {
   "cell_type": "markdown",
   "metadata": {},
   "source": [
    "### Centroid initialization methods\n",
    "If you happen to know approximately where the centroids should be, then you can set the init hyperparameter to a NumPy array containing the list of centroids, and set n_init to $1$.\n",
    "\n",
    "Another solution is to run the algorithm multiple times with different random initializations\n",
    "and keep the best solution. The best solution can be obtained via the models inertia which is\n",
    "the mean squared distance between each instance and its closest centroid.\n",
    "\n",
    "The KMeans class runs the algorithm n_init times and keeps the model with the lowest inertia."
   ]
  },
  {
   "cell_type": "markdown",
   "metadata": {},
   "source": [
    "**Remarks**: When performing K-means clustering, in addition to using multiple initial\n",
    "cluster assignments, it is also important to set a random seed using the np.random.seed() function. This way, the initial cluster assignments can be replicated, and the K-means output will be fully reproducible."
   ]
  },
  {
   "cell_type": "markdown",
   "metadata": {},
   "source": [
    "##  Perform Hierarchical or  Agglomerative Clustering"
   ]
  },
  {
   "cell_type": "markdown",
   "metadata": {},
   "source": [
    "In the following example we use the data from K-Means clustering example to plot the hierarchical clustering dendrogram using complete, single, and average linkage clustering,\n",
    "with Euclidean distance as the dissimilarity measure. "
   ]
  },
  {
   "cell_type": "code",
   "execution_count": 18,
   "metadata": {},
   "outputs": [],
   "source": [
    "# Generate data\n",
    "np.random.seed(2)\n",
    "X = np.random.standard_normal((50,2))\n",
    "X[:25,0] = X[:25,0]+3\n",
    "X[:25,1] = X[:25,1]-4"
   ]
  },
  {
   "cell_type": "markdown",
   "metadata": {},
   "source": [
    "We begin by clustering observations using complete linkage. "
   ]
  },
  {
   "cell_type": "code",
   "execution_count": 19,
   "metadata": {},
   "outputs": [],
   "source": [
    "from scipy.cluster.hierarchy import dendrogram, linkage"
   ]
  },
  {
   "cell_type": "code",
   "execution_count": 20,
   "metadata": {},
   "outputs": [
    {
     "data": {
      "image/png": "[encoded data removed]",
      "text/plain": [
       "<Figure size 1800x720 with 1 Axes>"
      ]
     },
     "metadata": {},
     "output_type": "display_data"
    }
   ],
   "source": [
    "# Using Single Linkage\n",
    "Z= linkage(X, 'single')\n",
    "fig = plt.figure(figsize=(25, 10))\n",
    "fig.suptitle(\"Single Linkage\")\n",
    "dn = dendrogram(Z) # plotting the dendrograms\n",
    "plt.show()"
   ]
  },
  {
   "cell_type": "code",
   "execution_count": 21,
   "metadata": {},
   "outputs": [
    {
     "data": {
      "image/png": "[encoded data removed]",
      "text/plain": [
       "<Figure size 1800x720 with 1 Axes>"
      ]
     },
     "metadata": {},
     "output_type": "display_data"
    }
   ],
   "source": [
    "# Using Average Linkage\n",
    "Z= linkage(X, 'average')\n",
    "fig = plt.figure(figsize=(25, 10))\n",
    "fig.suptitle(\"Average Linkage\")\n",
    "dn = dendrogram(Z) # plotting the dendrograms\n",
    "plt.show()"
   ]
  },
  {
   "cell_type": "code",
   "execution_count": 22,
   "metadata": {},
   "outputs": [
    {
     "data": {
      "image/png": "[encoded data removed]",
      "text/plain": [
       "<Figure size 1800x720 with 1 Axes>"
      ]
     },
     "metadata": {},
     "output_type": "display_data"
    }
   ],
   "source": [
    "# Using Complete Linkage\n",
    "Z= linkage(X, 'complete')\n",
    "fig = plt.figure(figsize=(25, 10))\n",
    "fig.suptitle(\"Complete Linkage\")\n",
    "dn = dendrogram(Z) # plotting the dendrograms\n",
    "plt.show()"
   ]
  },
  {
   "cell_type": "code",
   "execution_count": null,
   "metadata": {},
   "outputs": [],
   "source": []
  }
 ],
 "metadata": {
  "kernelspec": {
   "display_name": "Python 3",
   "language": "python",
   "name": "python3"
  },
  "language_info": {
   "codemirror_mode": {
    "name": "ipython",
    "version": 3
   },
   "file_extension": ".py",
   "mimetype": "text/x-python",
   "name": "python",
   "nbconvert_exporter": "python",
   "pygments_lexer": "ipython3",
   "version": "3.8.3"
  }
 },
 "nbformat": 4,
 "nbformat_minor": 5
}
