{
 "cells": [
  {
   "cell_type": "code",
   "execution_count": 125,
   "metadata": {},
   "outputs": [],
   "source": [
    "import pandas as pd\n",
    "import numpy as np\n",
    "import matplotlib.pyplot as plt\n",
    "from sklearn.pipeline import Pipeline\n",
    "from sklearn.model_selection import train_test_split\n",
    "from sklearn.preprocessing import StandardScaler\n",
    "from sklearn.compose import ColumnTransformer\n",
    "from sklearn.svm import LinearSVC\n",
    "from sklearn.svm import SVC\n",
    "from sklearn.metrics import accuracy_score"
   ]
  },
  {
   "cell_type": "markdown",
   "metadata": {},
   "source": [
    "# Q.no.1. a"
   ]
  },
  {
   "cell_type": "markdown",
   "metadata": {},
   "source": [
    "The fundamental idea behind Support Vector Machines is to fit the widest possible \"street\" between the classes (a concept often referred to as large margin classification).     \n",
    "SVM aims to have the largest possible margin between the decision boundary that separates the two classes and the training instances. When performing hard margin classification which works well only for the linearly separable data and when there are no outliers, the SVM strictly imposes that all instances must be off the street and on the right side while when performing soft margin classification, it searches for a compromise between perfectly separating the two classes and having the widest possible street which means that a few instances might end up on the street or even on the wrong side.                        \n",
    "Another prominent concept in the SVM is to use kernels when training on nonlinear datasets."
   ]
  },
  {
   "cell_type": "markdown",
   "metadata": {},
   "source": [
    "# Q.no.1. b"
   ]
  },
  {
   "cell_type": "code",
   "execution_count": 119,
   "metadata": {},
   "outputs": [],
   "source": [
    "# Creating the outcome variable\n",
    "def categorise(row):  \n",
    "    if row['mpg'] > df['mpg'].median():\n",
    "        return 1\n",
    "    else:\n",
    "        return 0\n",
    "    \n",
    "df = pd.read_csv('Auto.csv')\n",
    "df['mileage_status'] = df.apply(lambda row: categorise(row), axis=1)"
   ]
  },
  {
   "cell_type": "code",
   "execution_count": 120,
   "metadata": {},
   "outputs": [
    {
     "data": {
      "text/html": [
       "<div>\n",
       "<style scoped>\n",
       "    .dataframe tbody tr th:only-of-type {\n",
       "        vertical-align: middle;\n",
       "    }\n",
       "\n",
       "    .dataframe tbody tr th {\n",
       "        vertical-align: top;\n",
       "    }\n",
       "\n",
       "    .dataframe thead th {\n",
       "        text-align: right;\n",
       "    }\n",
       "</style>\n",
       "<table border=\"1\" class=\"dataframe\">\n",
       "  <thead>\n",
       "    <tr style=\"text-align: right;\">\n",
       "      <th></th>\n",
       "      <th>mpg</th>\n",
       "      <th>cylinders</th>\n",
       "      <th>displacement</th>\n",
       "      <th>horsepower</th>\n",
       "      <th>weight</th>\n",
       "      <th>acceleration</th>\n",
       "      <th>year</th>\n",
       "      <th>origin</th>\n",
       "      <th>name</th>\n",
       "      <th>mileage_status</th>\n",
       "    </tr>\n",
       "  </thead>\n",
       "  <tbody>\n",
       "    <tr>\n",
       "      <th>0</th>\n",
       "      <td>18.0</td>\n",
       "      <td>8</td>\n",
       "      <td>307.0</td>\n",
       "      <td>130</td>\n",
       "      <td>3504</td>\n",
       "      <td>12.0</td>\n",
       "      <td>70</td>\n",
       "      <td>1</td>\n",
       "      <td>chevrolet chevelle malibu</td>\n",
       "      <td>0</td>\n",
       "    </tr>\n",
       "    <tr>\n",
       "      <th>1</th>\n",
       "      <td>15.0</td>\n",
       "      <td>8</td>\n",
       "      <td>350.0</td>\n",
       "      <td>165</td>\n",
       "      <td>3693</td>\n",
       "      <td>11.5</td>\n",
       "      <td>70</td>\n",
       "      <td>1</td>\n",
       "      <td>buick skylark 320</td>\n",
       "      <td>0</td>\n",
       "    </tr>\n",
       "    <tr>\n",
       "      <th>2</th>\n",
       "      <td>18.0</td>\n",
       "      <td>8</td>\n",
       "      <td>318.0</td>\n",
       "      <td>150</td>\n",
       "      <td>3436</td>\n",
       "      <td>11.0</td>\n",
       "      <td>70</td>\n",
       "      <td>1</td>\n",
       "      <td>plymouth satellite</td>\n",
       "      <td>0</td>\n",
       "    </tr>\n",
       "    <tr>\n",
       "      <th>3</th>\n",
       "      <td>16.0</td>\n",
       "      <td>8</td>\n",
       "      <td>304.0</td>\n",
       "      <td>150</td>\n",
       "      <td>3433</td>\n",
       "      <td>12.0</td>\n",
       "      <td>70</td>\n",
       "      <td>1</td>\n",
       "      <td>amc rebel sst</td>\n",
       "      <td>0</td>\n",
       "    </tr>\n",
       "    <tr>\n",
       "      <th>4</th>\n",
       "      <td>17.0</td>\n",
       "      <td>8</td>\n",
       "      <td>302.0</td>\n",
       "      <td>140</td>\n",
       "      <td>3449</td>\n",
       "      <td>10.5</td>\n",
       "      <td>70</td>\n",
       "      <td>1</td>\n",
       "      <td>ford torino</td>\n",
       "      <td>0</td>\n",
       "    </tr>\n",
       "  </tbody>\n",
       "</table>\n",
       "</div>"
      ],
      "text/plain": [
       "    mpg  cylinders  displacement horsepower  weight  acceleration  year  \\\n",
       "0  18.0          8         307.0        130    3504          12.0    70   \n",
       "1  15.0          8         350.0        165    3693          11.5    70   \n",
       "2  18.0          8         318.0        150    3436          11.0    70   \n",
       "3  16.0          8         304.0        150    3433          12.0    70   \n",
       "4  17.0          8         302.0        140    3449          10.5    70   \n",
       "\n",
       "   origin                       name  mileage_status  \n",
       "0       1  chevrolet chevelle malibu               0  \n",
       "1       1          buick skylark 320               0  \n",
       "2       1         plymouth satellite               0  \n",
       "3       1              amc rebel sst               0  \n",
       "4       1                ford torino               0  "
      ]
     },
     "execution_count": 120,
     "metadata": {},
     "output_type": "execute_result"
    }
   ],
   "source": [
    "df.head()"
   ]
  },
  {
   "cell_type": "markdown",
   "metadata": {},
   "source": [
    "# Q.no.1. c"
   ]
  },
  {
   "cell_type": "code",
   "execution_count": 121,
   "metadata": {},
   "outputs": [],
   "source": [
    "# Replacing the invalid value in horsepower\n",
    "def remove_invalid(row):  \n",
    "    if row['horsepower'] == '?':\n",
    "        return -1\n",
    "    else:\n",
    "        return row['horsepower']\n",
    "\n",
    "# Replacing invalid value in horsepower with median as it is skewed\n",
    "def fill_invalid(row):\n",
    "    if row['horsepower'] == -1:\n",
    "        return df['horsepower'].median()\n",
    "    else:\n",
    "        return row['horsepower']\n",
    "\n",
    "df['horsepower'] = df.apply(lambda row: remove_invalid(row), axis=1)    \n",
    "df['horsepower'] = df['horsepower'].astype('int64')\n",
    "df['horsepower'] = df.apply(lambda row: fill_invalid(row), axis=1)\n",
    "df = df.drop(['name'], axis=1) # Dropping the name as it doesnt have significant meaning    \n",
    "    \n",
    "X, y = df.drop(['mileage_status'], axis = 1), df['mileage_status'] \n",
    "X_train, X_test, y_train, y_test = train_test_split(X, y, test_size = 0.3, random_state=42)"
   ]
  },
  {
   "cell_type": "code",
   "execution_count": 122,
   "metadata": {},
   "outputs": [
    {
     "data": {
      "text/plain": [
       "mpg             float64\n",
       "cylinders         int64\n",
       "displacement    float64\n",
       "horsepower      float64\n",
       "weight            int64\n",
       "acceleration    float64\n",
       "year              int64\n",
       "origin            int64\n",
       "dtype: object"
      ]
     },
     "execution_count": 122,
     "metadata": {},
     "output_type": "execute_result"
    }
   ],
   "source": [
    "X_train.dtypes"
   ]
  },
  {
   "cell_type": "code",
   "execution_count": 130,
   "metadata": {},
   "outputs": [
    {
     "name": "stderr",
     "output_type": "stream",
     "text": [
      "C:\\Users\\joshi\\anaconda3\\lib\\site-packages\\sklearn\\svm\\_base.py:985: ConvergenceWarning: Liblinear failed to converge, increase the number of iterations.\n",
      "  warnings.warn(\"Liblinear failed to converge, increase \"\n",
      "C:\\Users\\joshi\\anaconda3\\lib\\site-packages\\sklearn\\svm\\_base.py:985: ConvergenceWarning: Liblinear failed to converge, increase the number of iterations.\n",
      "  warnings.warn(\"Liblinear failed to converge, increase \"\n",
      "C:\\Users\\joshi\\anaconda3\\lib\\site-packages\\sklearn\\svm\\_base.py:985: ConvergenceWarning: Liblinear failed to converge, increase the number of iterations.\n",
      "  warnings.warn(\"Liblinear failed to converge, increase \"\n"
     ]
    },
    {
     "data": {
      "text/plain": [
       "{0.001: 0.8833333333333333,\n",
       " 0.01: 0.8916666666666667,\n",
       " 0.1: 0.95,\n",
       " 1: 0.9666666666666667,\n",
       " 10: 0.9833333333333333,\n",
       " 100: 0.9916666666666667,\n",
       " 1000: 0.9916666666666667}"
      ]
     },
     "execution_count": 130,
     "metadata": {},
     "output_type": "execute_result"
    }
   ],
   "source": [
    "accuracy = {}\n",
    "values = [0.001, 0.01, 0.1, 1, 10, 100, 1000] \n",
    "for cost in values:\n",
    "    svm_clf = Pipeline([\n",
    "        (\"transformer\", ColumnTransformer(transformers = [('standarscaler', StandardScaler(), ['mpg', 'cylinders', 'displacement', 'horsepower', 'weight', 'acceleration', 'year'])])),\n",
    "        (\"linear_svc\", LinearSVC(C=cost, loss=\"hinge\", random_state=42)),\n",
    "    ])\n",
    "    svm_clf.fit(X_train, y_train)\n",
    "    y_pred = svm_clf.predict(X_test)\n",
    "    accuracy[cost] = accuracy_score(y_test, y_pred)\n",
    "\n",
    "accuracy # accuracy is used because the outcome variable is balanced"
   ]
  },
  {
   "cell_type": "markdown",
   "metadata": {},
   "source": [
    "# Q.no.1. d"
   ]
  },
  {
   "cell_type": "code",
   "execution_count": 129,
   "metadata": {},
   "outputs": [
    {
     "name": "stdout",
     "output_type": "stream",
     "text": [
      "SVM with polynomial basis kernel:\n",
      "Degree: 3 Cost: 0.001 Accuracy: 0.4666666666666667\n",
      "Degree: 3 Cost: 1 Accuracy: 0.925\n",
      "Degree: 3 Cost: 1000 Accuracy: 0.975\n",
      "====================\n",
      "Degree: 6 Cost: 0.001 Accuracy: 0.475\n",
      "Degree: 6 Cost: 1 Accuracy: 0.8\n",
      "Degree: 6 Cost: 1000 Accuracy: 0.8\n",
      "====================\n",
      "Degree: 9 Cost: 0.001 Accuracy: 0.7416666666666667\n",
      "Degree: 9 Cost: 1 Accuracy: 0.7916666666666666\n",
      "Degree: 9 Cost: 1000 Accuracy: 0.9\n",
      "====================\n",
      "\n",
      "\n",
      "\n",
      "SVM with radial kernel:\n",
      "Gamma: 0.1 Cost: 0.001 Accuracy: 0.4666666666666667\n",
      "Gamma: 0.1 Cost: 1 Accuracy: 0.9583333333333334\n",
      "Gamma: 0.1 Cost: 1000 Accuracy: 0.9916666666666667\n",
      "====================\n",
      "Gamma: 1 Cost: 0.001 Accuracy: 0.4666666666666667\n",
      "Gamma: 1 Cost: 1 Accuracy: 0.9416666666666667\n",
      "Gamma: 1 Cost: 1000 Accuracy: 0.9333333333333333\n",
      "====================\n",
      "Gamma: 10 Cost: 0.001 Accuracy: 0.4666666666666667\n",
      "Gamma: 10 Cost: 1 Accuracy: 0.75\n",
      "Gamma: 10 Cost: 1000 Accuracy: 0.775\n",
      "====================\n"
     ]
    }
   ],
   "source": [
    "gammas = [0.1, 1, 10]\n",
    "degrees = [3, 6, 9]\n",
    "costs = [0.001, 1, 1000]\n",
    "\n",
    "print(\"SVM with polynomial basis kernel:\")\n",
    "for degree in degrees:\n",
    "    for cost in costs:\n",
    "        svm_poly = Pipeline([\n",
    "            (\"transformer\", ColumnTransformer(transformers = [('standarscaler', StandardScaler(), ['mpg', 'cylinders', 'displacement', 'horsepower', 'weight', 'acceleration', 'year'])])),\n",
    "            (\"svm_clf\", SVC(kernel=\"poly\", degree=degree, C=cost)),\n",
    "        ])\n",
    "        svm_poly.fit(X_train, y_train)\n",
    "        y_pred = svm_poly.predict(X_test)\n",
    "        accuracy = accuracy_score(y_test, y_pred)\n",
    "        print(\"Degree: \" + str(degree) + \" Cost: \" + str(cost) + \" Accuracy: \" + str(accuracy)) \n",
    "    print(\"=\" * 20)\n",
    "    \n",
    "print(\"\\n\\n\\nSVM with radial kernel:\")\n",
    "for gamma in gammas:\n",
    "    for cost in costs:\n",
    "        svm_poly = Pipeline([\n",
    "            (\"transformer\", ColumnTransformer(transformers = [('standarscaler', StandardScaler(), ['mpg', 'cylinders', 'displacement', 'horsepower', 'weight', 'acceleration', 'year'])])),\n",
    "            (\"svm_clf\", SVC(kernel=\"rbf\", gamma=gamma, C=cost)),\n",
    "        ])\n",
    "        svm_poly.fit(X_train, y_train)\n",
    "        y_pred = svm_poly.predict(X_test)\n",
    "        accuracy = accuracy_score(y_test, y_pred)\n",
    "        print(\"Gamma: \" + str(gamma) + \" Cost: \" + str(cost) + \" Accuracy: \" + str(accuracy)) \n",
    "    print(\"=\" * 20)"
   ]
  },
  {
   "cell_type": "markdown",
   "metadata": {},
   "source": [
    "# Q.no.2. a"
   ]
  },
  {
   "cell_type": "code",
   "execution_count": 58,
   "metadata": {},
   "outputs": [
    {
     "data": {
      "image/png": "[encoded data removed]",
      "text/plain": [
       "<Figure size 360x360 with 1 Axes>"
      ]
     },
     "metadata": {
      "needs_background": "light"
     },
     "output_type": "display_data"
    }
   ],
   "source": [
    "circle = plt.Circle((-1, 2), radius=2, facecolor='white', edgecolor='black', linewidth=2.0)\n",
    "\n",
    "fig = plt.figure(figsize=(5, 5))\n",
    "ax = fig.add_subplot()\n",
    "ax.add_artist(circle)\n",
    "\n",
    "ax.set_xlim(-4, 2)\n",
    "ax.set_ylim(-1, 5)\n",
    "ax.set_xlabel('X1')\n",
    "ax.set_ylabel('X2')\n",
    "ax.set_title(\"Curve: (1 + x1)^2 + (2 − x2)^2 = 4\")\n",
    "plt.grid()\n",
    "plt.show()"
   ]
  },
  {
   "cell_type": "markdown",
   "metadata": {},
   "source": [
    "The curve is a circle with center (-1, 2) and radius 2 as it follows the equation (x-h)^2 + (y-k)^2 = r^2 where (h,k) is the center and r is the radius of the circle."
   ]
  },
  {
   "cell_type": "markdown",
   "metadata": {},
   "source": [
    "# Q.no.2. b"
   ]
  },
  {
   "cell_type": "code",
   "execution_count": 87,
   "metadata": {},
   "outputs": [
    {
     "data": {
      "image/png": "[encoded data removed]",
      "text/plain": [
       "<Figure size 360x360 with 1 Axes>"
      ]
     },
     "metadata": {
      "needs_background": "light"
     },
     "output_type": "display_data"
    }
   ],
   "source": [
    "circle = plt.Circle((-1, 2), radius=2, facecolor='white', edgecolor='blue', linestyle='--', linewidth=2.0)\n",
    "\n",
    "fig = plt.figure(figsize=(5, 5))\n",
    "ax = fig.add_subplot()\n",
    "ax.add_artist(circle)\n",
    "\n",
    "ax.set_xlim(-4, 2)\n",
    "ax.set_ylim(-1, 5)\n",
    "ax.set_xlabel('X1')\n",
    "ax.set_ylabel('X2')\n",
    "ax.set_facecolor('blue')\n",
    "ax.set_title(\"Curve: (1 + x1)^2 + (2 − x2)^2 > 4\")\n",
    "plt.grid()\n",
    "plt.show()"
   ]
  },
  {
   "cell_type": "code",
   "execution_count": 85,
   "metadata": {},
   "outputs": [
    {
     "data": {
      "image/png": "[encoded data removed]",
      "text/plain": [
       "<Figure size 360x360 with 1 Axes>"
      ]
     },
     "metadata": {
      "needs_background": "light"
     },
     "output_type": "display_data"
    }
   ],
   "source": [
    "circle = plt.Circle((-1, 2), radius=2, facecolor='red', edgecolor='red', linestyle='-', linewidth=2.0)\n",
    "\n",
    "fig = plt.figure(figsize=(5, 5))\n",
    "ax = fig.add_subplot()\n",
    "ax.add_artist(circle)\n",
    "\n",
    "ax.set_xlim(-4, 2)\n",
    "ax.set_ylim(-1, 5)\n",
    "ax.set_xlabel('X1')\n",
    "ax.set_ylabel('X2')\n",
    "ax.set_title(\"Curve: (1 + x1)^2 + (2 − x2)^2 <= 4\")\n",
    "plt.grid()\n",
    "plt.show()"
   ]
  },
  {
   "cell_type": "markdown",
   "metadata": {},
   "source": [
    "The set of points for the equation (1 + x1)^2 + (2 − x2)^2 > 4 lie on the region beyond the circle while as the set of points for the equation (1 + x1)^2 + (2 − x2)^2 <= 4 lie inside the circle including the border of the circle which is the reason why the there are solid lines in the second circle compared to the dashed lines in the first circle to mark the border."
   ]
  },
  {
   "cell_type": "markdown",
   "metadata": {},
   "source": [
    "# Q.no.2. c"
   ]
  },
  {
   "cell_type": "code",
   "execution_count": 103,
   "metadata": {},
   "outputs": [
    {
     "data": {
      "image/png": "[encoded data removed]",
      "text/plain": [
       "<Figure size 360x360 with 1 Axes>"
      ]
     },
     "metadata": {
      "needs_background": "light"
     },
     "output_type": "display_data"
    }
   ],
   "source": [
    "circle = plt.Circle((-1, 2), radius=2, facecolor='none', edgecolor='black', linewidth=2.0)\n",
    "\n",
    "fig = plt.figure(figsize=(5, 5))\n",
    "ax = fig.add_subplot()\n",
    "ax.add_artist(circle)\n",
    "\n",
    "ax.set_xlim(-5, 5)\n",
    "ax.set_ylim(-2.5, 9)\n",
    "ax.set_xlabel('X1')\n",
    "ax.set_ylabel('X2')\n",
    "ax.set_title(\"Curve: (1 + x1)^2 + (2 − x2)^2 = 4\")\n",
    "points_x1 = [0, -1, 2, 3]\n",
    "points_x2 = [0, 1, 2, 8]\n",
    "colors = ['b', 'r', 'b', 'b']\n",
    "plt.scatter(points_x1, points_x2, c=colors)\n",
    "plt.grid()\n",
    "plt.show()"
   ]
  },
  {
   "cell_type": "markdown",
   "metadata": {},
   "source": [
    "(0, 0), (2, 2), and (3, 8) lie on the blue class and (-1, 1) lie on the red class as shown in the figure above."
   ]
  }
 ],
 "metadata": {
  "kernelspec": {
   "display_name": "Python 3",
   "language": "python",
   "name": "python3"
  },
  "language_info": {
   "codemirror_mode": {
    "name": "ipython",
    "version": 3
   },
   "file_extension": ".py",
   "mimetype": "text/x-python",
   "name": "python",
   "nbconvert_exporter": "python",
   "pygments_lexer": "ipython3",
   "version": "3.8.3"
  }
 },
 "nbformat": 4,
 "nbformat_minor": 4
}
